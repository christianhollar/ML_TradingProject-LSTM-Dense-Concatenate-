{
  "cells": [
    {
      "cell_type": "markdown",
      "source": [
        "**ME391: Final Project**\n",
        "\n",
        "Christian Hollar\n",
        "\n",
        "6 Input Keras Model for TSLA Price Prediction\n",
        "\n",
        "Stock Price Settings: 2 Year Period & 1 Hour Interval Closing Prices\n",
        "\n",
        "- Input 1: LSTM Tesla\n",
        "- Input 2: LSTM Apple\n",
        "- Input 3: LSTM Microsoft\n",
        "- Input 4: LSTM Google\n",
        "- Input 5: LSTM Amazon\n",
        "- Input 6: Dense Technical Indicators\n",
        "\n",
        "Stock Index LSTM:\n",
        "Previous 100 Price Values -> Next Price Value\n",
        "\n",
        "Technical Indicators:\n",
        "- RSI\n",
        "- Stochastic RSI\n",
        "- Triple Exponential Moving Average\n",
        "- MACD\n",
        "- VWMA"
      ],
      "metadata": {
        "id": "6RWd0gHxAZLn"
      }
    },
    {
      "cell_type": "markdown",
      "source": [
        "![image.png](data:image/png;base64,iVBORw0KGgoAAAANSUhEUgAAAX0AAAEICAYAAACzliQjAAAgAElEQVR4nOydd3xUVfbAv296eqeEltClhyIiuoKAWBBZFWWxYVl19WddC7YVd0VB17Ksq64FK7ZVV0FQYVEMCEhRmvQSICGEEEhPpr7fH/dlSmZSZyaZ4P1+PjHv3XpmDOfdd+6554BEIpFIJBKJRCKRSCQSiUQikUgkEolEIpFIJBKJRCKRSCQSiUQikUQsOcD4RrTLAFTAEF5xJJKG0bW2AJJTjtqKcBpwEjindcQB4G2E0r2kVvkLWvmMFpfInxnAVqASOAq8AiQ2oX9jH0CtNZ4kQpBKXxJOrgP+BVwE/NDEvqFeFe8Grq01/hXAvhDP0xz+DMwF7gcSgDOAbsAywNSKckkkEkmD1KwQbwGOA8O96hKAN4F8IA94EtBrdTOAHxGr7yKtrgfwnXZ/HFiA7+r3QW2cMmAXMK4Omd4G/g4UAEla2STga2AVnpW+DngUOAgcA97VZK7hGq2uCHgE39WwDpiJeIgUAZ8AyVpdfeadeKAc8QDyJhYoBG7w+gxPetWPAXK16/cAF1CljfWA15w3A0cQ3/l9tb6TpownOUWQK31JOPgT8FeEEt7gVf424AB6AlnAecBNXvUjgf1Ae2A2oABPA+nAaUAXYJbWtg/wf8AIIA6YiFDCdVENfIkwN4FY9b9bq80M7Wcs0B2heF/S6vohTC7XaPKkAJ29+t4BTEGYsdIRJq1/1SNPDWcCFuDzWuXlwBJgQiPGuAY4BFysyfyMV91YoBfiu36Qxpls6htP0saRSl8SDiYAaxE26hraAxcCdwMViJX0C3iUMIgV6T8RD4YqYC/CxGFFrHqfx7M34ATMCGVsRCj8hkw17yKUfaI2zhe16q/S5tiPULoPafIZgMuBr4BsTZ7HEKvhGm5FrP5ztfpZWp+GzFSpiLcYR4C6fK0+GJ5AfN9bgbeAPwQ5nqSNI5W+JBz8CegNvIFYrYOwURsRiqxY+/k30M6r3+Fa47QHPkKYcEqB9/Eowb2IB8gsxAPkI8QKuz5WAWkI5fwV4sHiTTrCfFPDQYTSbq/VectXgTDj1NAN+K/XZ9uBeDC1b0Cm49pnCvRw6KjVB4O3zAdp+DuSnOJIpS8JBwUI087ZwMta2WHECjgVsdJORNiz+3v1U2uN85RWNlBrezWehwjAB8BZCIWrIjZDG+J9xMZpbdMOiDeNbl73XREr8ALEw6qLV100wsRTw2HgAjyfLRFhtslrQJ41iO/l0lrlsdp4y7X7Cm3OGjrUal/7u6vBW+auiM8YzHiSNo5U+pJwcQSh+M9HmHHygaXAcwgFrkNs1NbnyhmHMLOUAJ0Q3i019AHORZh4qhGrdlftAQIwD2F+yg5Q9yFwD5CJULpPAR8jFP+niM3fsxAeNX/F99/Pq4h9iJqHRhr+LqKBKEGYYP6J+K6MiE3YTxCmove0dpsQ5rFkhIK+u9Y4BYh9iNo8hlDu/YHrtc8TzHgSiUTiQ23/7kzEKvhphCfMKwhlVgL8gsemPwNhfvGmP7ARofg3IVboNR4mg4B1CM+dEwhzTV2mi9qeKt7U9t75iyZvIeKtIMmr7XWIDc66vHfuRXgRlSH2F57S6hpzOOtGYBvi4VWAMH15z21BKOxSYAvi4ZTrVX+JJlsxwkuntvfOUXy9cJo6nkQikUgiGHkKWBIQad6RSCSS3xBS6UskEolEIpFIJBKJRCKRtGmUhpu0HikpKWpGRkZriyGRSCRtio0bNx5HuA37EdE7+xkZGWzYsKHhhhKJRCJxoyjKwbrq5EauRCKR/IaQSl8ikUh+Q0ilL5FIJL8hItqmHwi73U5ubi7V1dWtLUqbw2Kx0LlzZ4xGY2uLIpFIWok2p/Rzc3OJi4sjIyMDRYlo56OIQlVVioqKyM3NJTMzs7XFkUgkrUSbM+9UV1eTkpIiFX4TURSFlJQU+YYkkfzGaXNKH5AKv5nI700ikbRJpS+RSCKfJVvz+XFvsIm/JKGmzdn0W5uioiLGjRsHwNGjR9Hr9aSliYNv69atw2Qy1dv/7bffZsOGDbz00kv1tpNI2jq3LfgZgM2Pn0dClHQeiBSk0m8iKSkpbNq0CYBZs2YRGxvLfffJHBMSSV28smIfMy/o29piSDSkeScEbNy4kXPOOYdhw4YxceJE8vPzAZg3bx79+vVj0KBBTJs2za/fokWLGDlyJFlZWYwfP56CgoKWFl0iCRtmbMzQf4MeR2uLIvGiMSv9+YjcoMeAAVrZs8DFgA2RFu56RFo1gIcQqd+cwJ3At1r5+cA/AD3wBjAnWOGfWPQr24+UBjuMD/3S43n84v4NN9RQVZU77riDL7/8krS0ND7++GMeeeQR5s+fz5w5czhw4ABms5ni4mK/vmeddRZr165FURTeeOMNnnnmGZ577rlQfhyJpFU4/8Vs/mN6gkG6A2zTD8WjOiStTWOU/tvAS8C7XmXLEMrdAczVrh8E+iFynvZH5Cv9H9Bb6/MvRELqXGA9sBDYHvQnaGWsVivbtm1jwoQJADidTjp27AjAoEGDuOqqq5gyZQpTpkzx65ubm8uVV15Jfn4+NptN+s9LThl2Hi0jwVQBQPs9H8OEGSC9xyKCxij9bES+TW+Wel2vBS7Xri8BPgKswAFgL3C6VrcX2K9df6S1DUrpN2VFHi5UVaV///6sWbPGr27x4sVkZ2ezaNEiZs+ezdatW33q77jjDu69914mT57MihUrmDVrVkuJLZGEnV1qF7pxjLTCNbB/BfQYG/I5tuaW8M/v9vDatcNDPvapSihs+jcAX2vXnYDDXnW5Wlld5YG4GdgAbCgsLAyBeOHFbDZTWFjoVvp2u51ff/0Vl8vF4cOHGTt2LHPnzqWkpITy8nKfviUlJXTqJL6Gd955p8Vll0jCSRRWCtUEcVN2NCxzXPzSKpZuL2DlnsjXFZFCsEr/EYSJZ0EIZKnhNWA4MLzGFTKS0el0fPrppzz44IMMHjyYIUOGsHr1apxOJ1dffTUDBw4kKyuLO++8k8TERJ++s2bNYurUqQwbNozU1NRW+gQSSXiIUao5ocaJG0dVWOfad6y84UYSIDiXzRmIDd5xgKqV5QFdvNp01sqop7zN4m2Oyc7O9qtftWqVX9mMGTOYMWMGAJdccgmXXHJJ+ASUSFqRaKycUOMBcNqq0Ydxrk5J0WEc/dSiuSv984EHgMlApVf5QsRGrhnIBHoB6xAbt720MpPWZmEz55ZIJG2A9spJDqvibf3zdXt96g4cryBj5mI2H/b3amsKHRMsAKTE1n8oUuKhMUr/Q2AN0Adhi78R4c0Th/Di2QS8qrX9FfgEsUH7DXA7wnXTAfwfwn1zh9bm11B9CIlEElnocJGklHOEFACOHD/pU19jg//PxsN+fZuCSxVGBlVtoKHETWPMO38IUPZmPe1naz+1WaL9SCSSUxwzNgAqVTNW1YCx1gGtKKMw9izbXsCTUwY2ex6nS2r7piJP5EokkpCTbb4bABtGzIqD2wy+1lyb0wVAQalV3DtcFJZZmzyPw630pfJvLFLpSySSkJOmiJPyfQyBXTXnfL3T537U08sZMft/qE2008iVftORSl8ikYSNCfxEuWqhQjX7lBsUyLFM53njywAUVQhzkKOJSrxG6S/anB8CaX8bSKXfRIqKihgyZAhDhgyhQ4cOdOrUyX1vs9nq7bthwwbuvPPOJs03f/58Bg4cyKBBgxgwYABffvllve2/+OILtm9v89EtJG2YKpvTfShrnPovVrgGk6+m+LRJ10I0XKr3dWtu6sq9pv3bq3OaK+5vDhlauYk0FFrZ4XBgMAT+WocPH87w4Y0/Lp6bm8vs2bP5+eefSUhIoLy8nIZOKX/xxRdMmjSJfv36NXoeiSSUlFXb0ePiXccErj67F45Vegw43fVWh5Oq8jLwCrF/nf5bnjC+Q2V1DhiTGj2X1eEKpeghY9fRMvJLqhjTp11ri+KHXOmHgBkzZnDrrbcycuRIHnjgAdatW8eoUaPIysrizDPPZNeuXQCsWLGCSZMmAeKBccMNNzBmzBi6d+/OvHnz/MY9duwYcXFxxMbGAhAbG+sOyrZv3z7OP/98hg0bxtlnn83OnTtZvXo1Cxcu5P7772fIkCHs27evhb4BicSDChhx4kBP56RoHBgwKB6lvzO/DL3Lk6tZVVX+aFgsritPtLS4YWHii9nMeGt9RO45tO2V/tcz4ejWhts1hQ4D4YKmR33Ozc1l9erV6PV6SktLWblyJQaDgf/97388/PDDfPbZZ359du7cyffff09ZWRl9+vThT3/6E0ajZ/kzePBg2rdvT2ZmJuPGjePSSy/l4osvBuDmm2/m1VdfpVevXvz000/cdtttfPfdd0yePJlJkyZx+eWX+80nkbQEO4+WcToO7OgZ2C6WfarOZ6Wfe7IKCx5T6Pe7jjEY4bnjOsUc7nOKKuiRFtvaYvjQtpV+BDF16lT0euF7XFJSwnXXXceePXtQFAW73R6wz0UXXYTZbMZsNtOuXTsKCgro3Lmzu16v1/PNN9+wfv16li9fzj333MPGjRu57777WL16NVOnTnW3tVqb7u4mkYSD99bkcCZOsjLaMSIjmaMWMwaHR5nbnS6i8Py9HjheyblKmbhxBP630lZxyZV+iGnGijxcxMTEuK8fe+wxxo4dy3//+19ycnIYM2ZMwD5ms8ejQa/X43D4ZxhSFIXTTz+d008/nQkTJnD99ddz7733kpiY6N5bkEgihdJqO8t3FmA0Ozm9R3sAUuIs6E96bO92p4soJbDTg8tWGbC8LoZ2TeTnQ8V0TopqvtAhxOpwYjZ4ogxFoM6XNv1w4B0y+e233272OEeOHOHnn39232/atIlu3boRHx9PZmYm//nPfwBhE928eTMAcXFxlJWVBSG9RNJ8yqsdGFTNlKMXpkpV0aF4HZ5yOp1crPfkn9hwoMh9rSva1aT5SqvFQqlXu9Y3oSzafIQ+j37DXq+In5Fo05dKPww88MADPPTQQ2RlZQVcvTcWu93OfffdR9++fRkyZAgff/wx//jHPwBYsGABb775JoMHD6Z///5uV85p06bx7LPPkpWVJTdyJS2O3enCUBNyoUbpo0OHZ6Wfemw1l+s9UWkLtq90X1eVN5z+NK+4ilve28DRkmpOaP79kaBaF20+AsDeY+Uo+grM7b+kKswhpZtD2zbvtDJ1ZboaNWoUu3fvdt8/+eSTAIwZM8Zt6qndd9u2bX7jdOvWje+++y7gHJmZmXzzzTd+5aNHj5Z++pJWw+ZweeLs6DwrfR0qTpeKXqdgLxGndL9yjmSS/ieGtQNKRJdvN+dwTQMJtkbPEf8mvv21wJ2BsWZB/ddF29l5tJQP/nhGKD9Wo6hxH/3zJ5swJq/ClLyG5bmLGNb1phaXpT7kSl8ikYQMm9OFGW0z1mulj+qix8Mi3uKqHSKy5iT9TwA8UuJZACmOahqih5JHjmU6F+tWu6Nr1oRvmP/jAVbvK6qnd/io8TyqsDlR9FVaWeTlBZZKXyKRhAy7U+Vx43uoKML9GbHS12vmnd0FZVg0z51H7df79a9rg9ebs3TirfifppfcZZHg6XnohGcTWtE+x5aita0lTp1IpS+RSEKGWl7AJP1a8vr9EboKE4tTVdBpVvf5qw4QrSn9j5xjecsx0ad/cUnDNv3aYZoB1Aiw6h8s8lL6BuFMsfWkVPoSieQUJidfhAmxJvVxl1mdinsj1+Zw8WfjpwA4MFCGr6vljbpFDc4Rq3g2R/U4SYo24oqQaAyK8TiK8QSKTjzY+sWOa2WJ/JFKXyKRhIT8kipeXSZOyOtMHmXuxKP0B3RK8OnjaoYKcu8ZAJfpszlZaWfN/iL2FXpcJVvjUFTfDnHE9vw7sT2fQR99CACjEtNAr5ZHKn2JRBISLnt5tTu8glXxHDx0Knr0iooBB+v2F+FQdXwSdQUA7zsmcJ/9For+fJSlzmFsd3Wrd45DRZU+Sv+gq4P7evI/PRE7na1g5O+XHu9X5vIKP1HDrqNlrGmlzWaQSr/JBBNaGUTQtdWrVwesKygoYNKkSQwePJh+/fpx4YUX1jtWcXExL7/8crM+h0QSao6UVLs3YjukJrvLi/Qi0mQn5Tjfbz+MQXHRt1s6AMdJ4FPnOSTHWrBhwISd/YXl/HP5noBzvLh8t/vBMtN+E/tVj9KvsDlRjCcwxP/SKoeiXAFsTBsPFlFU7hsiZeKL2fzh9daz9Uul30RqQitv2rSJW2+9lXvuucd9bzKZGuxfn9L/y1/+woQJE9i8eTPbt29nzpz6w0xIpS+JNJIQG5iJ8R4zzsYCoQyTKSMG4ZLpMkRz74TeXDuqGz89PA5FUUhPjseiczL++R94btluP2W5La+Ez3/Ow6LYyVVT+ch5LoX4hmGOzniZqE4fc/hEJa9n7w/nR/WjWj3pX6iovLnqQIvK0RBS6YeAjRs3cs455zBs2DAmTpxIfr7I4jNv3jz69evHoEGDmDZtGjk5Obz66qu88MILDBkyhJUrV/qMk5+f7xNwbdCgQe7rZ599lhEjRjBo0CAef/xxAGbOnMm+ffsYMmQI999/fwt8UomkfvrqhA8+iV3dZS7tkNZ/zY+TGS9W4O1TU7lzXC/+eskA2sdb3O2MODCoduYYXmPdr74hGUqrhFlnWCcLZqPnXGmnRM/+gc4g7PrXv7OG2Ut2kFfccidi7WqAN33FSaXN38TTmrTpE7lz181l54mdDTdsAn2T+/Lg6Q82ur2qqtxxxx18+eWXpKWl8fHHH/PII48wf/585syZw4EDBzCbzRQXF5OYmMitt97ql3ilhttvv50rr7ySl156ifHjx3P99deTnp7O0qVL2bNnD+vWrUNVVSZPnkx2djZz5sxh27ZtMvCaJGJIpYTjajypsWnusuT4WLQXAKxlRWCGju1S/fo6FSMGHCw1PUCGroCD2/4OI9911+t0Cu04Sbejy3z6GfX+B6BKqqoBPQ5ny7n1nHTtAOCsTmcx+6zZ/O7DCSi4iDLpG+jZsrRppR8JWK1Wtm3bxoQJEwARTKpjx46AWKlfddVVTJkyhSlTpjQ41sSJE9m/fz/ffPMNX3/9NVlZWWzbto2lS5eydOlSsrKyACgvL2fPnj107dq1gRElkpYlUSmjWI3FW6U7FI+a6aJomd9M/l4tTm2lv03NIIMCipMG4b2tq9qr+cj0N3Fz6ev80mMCJoOOiS9m+41VZrUBUS0a5dKiiqiil/a6lGRLMigOFFMRydENm31bkjat9JuyIg8XqqrSv39/1qxZ41e3ePFisrOzWbRoEbNnz2br1oYTviQnJzN9+nSmT5/OpEmTyM7ORlVVHnroIW655Raftjk5Mi+oJLJIopyT+Ea8dOJZ6fZPtEMlYPKPiunSGTGqds7ViTdXl8vXLGIoy6W77ig5o2aTMegKtzU/0KatojhRgcVbjvB/5/YK6jM1FqcqDo2lRqVqMrgwRB+MOPOOtOkHidlsprCw0K307XY7v/76Ky6Xi8OHDzN27Fjmzp1LSUkJ5eXl9YY+/u6776isFKf6ysrK2LdvH127dmXixInMnz+f8nJhr8zLy3OnUpRhlCWRRJJSTrEa51NWePy4+zpF0U7cBljpuxSx0o9WxAau6vC1kSsuYdN3WhJ9ym8b08NfEEWYdf6+dLd/XYjZV1jOnoIy9qkijLpJ57uyr7Q3P9JuOJBKP0h0Oh2ffvopDz74IIMHD2bIkCGsXr0ap9PJ1VdfzcCBA8nKyuLOO+8kMTGRiy++mP/+978BN3I3btzI8OHDGTRoEKNGjeKmm25ixIgRnHfeeUyfPp1Ro0YxcOBALr/8csrKykhJSWH06NEMGDBAbuRKIoJEpZyTqu8q3uyVGjHZXiAuYtKojUtnxKB4bPBq7eBrTqH01VpK9ZpRGe5omzUY439pqujNZtxzPzDhhWysiIdb13hfs2uR9ZD72vsAWWvRps07rY13eOTsbH+74qpVq/zKevfuzZYtWwKOd//999epvO+66y7uuusuv/IPPvigseJKJGEniTJ6Z/oqvWWuYfzk6stI3U4m2rRN2ABKf3vKBHoe+ZLOivZm4PB12cwrKmE4YFP9N0Zrn8VyOeL82oSbduo4jinLiTP5zv1tyX3cmD+KsmoH63M8id9PVNhIjml5e79c6UskkpAQQxUWxY7N5Gt+UdFxv/0WylSvODs6f8VdHJ3BfMcF7vuD+3aQMXOx+37Bj3sB2H28MfmgWz6ksd2polMDp2284B8rueLfa/jH8j0Yk1cS0+NZnl/WtCxhoaIxSn8+cAzwzvKRDCwD9mi/a/ZUFGAesBfYAgz16nOd1n6Pdi2RSE4hbtB/DYC1tNCnfPrIrhxS23O17aF6+ytAFZ6V72jdNmbov3HH0TEqwjauMxgD9zd5zau0/OZpQVkleG1ad4nr4lUrPoPN4cLSfjE6UxELt0Wu0n8bOL9W2UxgOdBL+z1TK79AK+sF3Ay8opUnA48DI4HTtWvfo3RNQI2E4NltEPm9ScJJjT2+LNM3fEhStFDSNgIr6xq25pVg97I4t1eKmWV8F4dTKHCTFlJZb7T49X1pehY6Q7H7vl96dDM+QbA4wcv09O4FnjMGptTlfq0rnEdbRKraNEbpZwMnapVdAryjXb8DTPEqfxfxWFsLJAIdgYmIN4ITwEntuvaDpFFYLBaKioqkAmsiqqpSVFSExeL/D0YiCQXVqlilXzjBN0Z+3w4iEJlDqV/p33R2pluxe+O0i41gkxZozWDy/xueNCidqM4L3Pc9ux73axNuFMWJw+kxK9W4bgKY0/5HdMZLoHiCxaGzM6+OGEPhpLkbue2BfO36qHYP0Ak47NUuVyurqzwQN2s/FBYW+lV27tyZ3NzcgHWS+rFYLD5hHiSSUNIpVsVlVdAZzD7lkwZ15LSOcZQf/hXqCZd/bt/2HEg2Qxm8YL8Mg+LkDsMXjPjrYt67bbw7uubY/l0C9neU98GYsBmAZYeWYEw04SgbQKXNQbQpnD4rDlBUUFzEW3w/+x97PsNru/6Coq9GH5XrjrMPoOhsPL9sN3eOa5lzBDWE4ptQCW0y+te0H9LS0vzGNRqNZGZmhnA6iUQSCrLsm0SGrFr+k4qi0LNdHJsONuyv/n3MeVSdzON150VM1f8AiExZP+wuZHQXExSAKdo/hDFAbNIerF5RFywdv8CVtpTPNo7kmlEZzf9g9eByqUR3n4fefIx4TiMl1tesdH7Ps3hlSwcM0eIgpSn1e3edKfU7nNUdwyJXfTTXe6cAYbZB+31Mu84DvB/DnbWyusolEskpgq0B801ldMMKzqGz8HfHlVQiQi0DGHGSGmsm2q5FsYz2j9sDYHWJg42xRs85AZ2hkqgwrvJLquzozUL9lbIDg853royUGHB6zFGm5B/d13rLEWJ7Phs22eqiuUp/IR4PnOuAL73Kr0VsxJ8BlCDMQN8C5yE2b5O062+bObdEIolAXCrsjxpYZ73dGM/51jnc32F+nW10Xm8JNZu6s4zv0MFiJ8pRSiVRYKjft/3by78lxug58RtrDp/Sr22KMCi+c5kMOlRXZO2jNUbpfwisAfogbPE3AnOACQj3y/HaPcASYD/CZfN14Dat/ATwN2C99vNX/DeHJRJJG8ak2rHrzHXWn9kjhawRo7lnWt3JgdLiRP9bzunOkAyxVXihfh3dd7yK4rJjb+BtAiDeFM/CKQvd90qA7FWhonbcH6MugHyq/5mBiv13hkukBmnMI/APdZQHyvirArfX0X6+9iORSE5BdDhRlbpVilGv4+lLB9VZD/DklAGMzEzhD6d34aclP3mMwKqK3mVv0AOohnbR7dzX644vI/XgZHq1jyPe0rj+jaW2F2Ft8w6AMdE/JMTsSWN5avu8kMrSWOSJXIlEEhL0qhNVCU6lxFmMTB/ZFUVRqIzzOGw49WZ0qh1nPQ+V2sQaRTiEHcW/cNkra7jt/Z+Dki0QtXPx1g7BUBdTBmdiKzob1RXah1BjkLF3JBJJSNDjxB5gpdtcXGZPOIdKS3t0rq0461npPz/mecptnoBmT5/xb+5YOZ10k8hDsfNo6CPSOl0qzur2ZCSl8sTv/kxmgr9nocuais7se24gyqTHpDehtsLJYbnSl0gkIUGYd0KYJcroiWNzsrQCxWWvV+lP6DaB3/f6vfverBdtqx3CVdRsCL26U1VQdA4STGmM6DDC50BWDXPOeRKA5855DhDZ+QAGpiejKC5cqvAz3ZFf2iKZvuRKXyKRhASd6gqp0i+2ecZavfMQYy12XHXE3QmE2SDUW5V2otdsDL3Sd7pUUBwYdXV7FF3cZzQX9d6MTtGxquMqzHqxWa3TTFUOl4P8YjsX/GMl4/q2480ZI0IupzdypS+RSEKCEQdqIO+VZpLR3mPeiVGs6Fz2Jo1v1h4Qe4+VCPl0Ov66aDsZMxdTYQ1NYhOnqoJi90ucUhudtteRYE7AYhAunHrtrcXmtFFtFyv85TuPBR4ghEilL5FIQoIBJ64Q2vQHdvEo/XSO43LYqXI1XmWZNX/+IyXi0NaugjLm/3gAgP9sOExRuZXxz/9AeRAPAJdLRdHVv9KvC7220re77EQZWy55ulT6EokkJBhCvNI36HRkVIsgalMN2RgVB4WVjY/4Em3UFHGAzdJjZVaGPfk/9h4rZ8DjzT8numhLPigOjpxs+oast9JXQxrJpn6k0pdIJCEh1OYdvU5hvpd9u69yiPiExHp6+OIOfqb4b46+vGKfz72qqny/81iTo/fOW74TRXFxorzpbws15h27y+6X+SucSKUvkUiCxuVSNfNOaP3OB3byKPlYpRpDQnqj+1oMFhJMCRgT16Ho689Nm/nQEq5/ez0vfbe3SfLpow8CUGpp+ttCzUrf5rS14DpfKn2JRBIC9haWY8SBwRjanK8mg46h1a/ypfNMAAodgdMRBsKgM/DCmBfQmwsxJAQ4mKXYiTttJtAKiZIAACAASURBVP377HAXvbf2YJPkMyZsAMAVIA9AQ9Ss9B9fuJmyansDrUOHVPoSiSRoznvhB0yKk94dk0M6brzFwAniMWhKNSl/ZZP6D20vMrYqOptfnd4iYjwc0r3jLjtW1pj8ux6Mic0/5VsTnG3VvgImv/QjxsS1GBLWN3u8xiKVvkQiCYrs3YX0UI4AEBUT20DrpqFoUTcv0q8DYLBuf5P617hKmpKzMSZn16oNzqgy/Mn/BdX/aKl4kCla7l9Lxy+ISv8sqDEbg1T6EokkKAwK/MP4L8r1CTBoWsjHz5lzEd86hwOQT1qT+iqKgqrqUfQ2LO2X+NSZO3in8XIR1fU1RvZpvJnleLkV24nRAHxz2TdNkgtgY+EqAIzJTXt7CRap9CWtjqqq2BzhP34uCQ/zvv6FAbocvo67DOLDkwnqPv39/N0+lYdTXmh6Z+/QxrpKojP+ic6Si95yxF1sbrcYQ8x+tusea/Swp2cmgwp6ougUW1f217pxlIqIo47y04CW+/uXSl/S6ry56gC9H/2aJVvzG24siTiO5OcCMKRf37DNsXrmOD6JnsYdl5zV9M5eLpuxvf+GPiqPmMyXfJoY4rc2eViH00XHRAOJluiGGwdAdWimMNWIMXlVs8ZoDlLpS1qEDTknyD1ZGbDumcVbeMLwFs99UE/WbEnEMjhJ2KQzunQN2xxxFiPrHhnP0K5JTe6reCl9RQlsx9cZSwOWf701n111ROd0uFRUnc0dVqGpqGqN+nX6mJ62HwksS6iQSl/SIlz+6hrOmvt9wLqxuk1cZ1jGjfqvySuuImPmYjYfLkZV1SYflpG0LKv2HMdeLLxgjAkdWlmapvHEmU+QaBQyu+wJ7nLvbFh/WvAzE1/MZmtuiV9/q6ucaiXPHUCtyagi9EJUp098ijceDG9SQan0JS1Ktd3/uHo01eK3Us3oOd8BcN1b68h8aAlPf72zReWTNI1H53/BbOOb4ialV+sK0whcNo9Labf4bpyffqNfG7sW3tjbd/7il3zNL6qqkuP6D5VqHleddlWzZOmaEtgsZA5zHB6p9CUtSt/H/L0cJkTtAsCuGuibauR942zu7C1WVq9lN81FT9KyvGOcS4qimT9MMfU3jgCc1Z4N12pHNWa9OEymM3pW8lYt4uXrKw+4yzom+Jpw1uwrQmcoxVndgSv6XNEsWRxO/9y5AIFLQ4dU+pIW50SF70GZC51ida/qDFzZ8Rhn6X9l6I65rSGapIl003mFAlbCra6CQ3XpMcRtd9+nx6YTZ4z3a1duE2+evdp5zhxMHpxOSaWdH3YXAmAx6UHnALX5UUXrMgttyi1s9piNQSp9SYsz9G/L2HusnIyZi8mYudhd3iNJT5RV/MF3JZ/p+uV0UQpaS0xJIyhS/ZVm5KJDdXrCOGQmZNIrYSD24qE+rd7/JZstuUU+4Y63HSlh8F+Xct38deSXVGEx6EGxk5mSQHN5+9oxActX5exq9piNQSp9SdhRVRWDTmGcbiOX6cSpyPHP/0BnpZDzdJ5j5yZXFT/vE5uCyUo5TxnfZKX5HrmZG6Gs3FPITleX1haj8SgO9+nXGrqlxuCo6O1T9v6hmVz+8ROYjToUfTnGpB/5ca8nx+2op7/D6VJRFAcxpuZ57kDdNv1SZRsuV/j+5qXSl4SdKruTu3Uf8abpOZ4zvcqNerG6X2W+i9dMnsM2FtsJovCPkbJki/Tfj0SueXMdSUr90SsjgeVTl2M7ORJFUVH01VzW6zI2Xr0RgB5p/mEjVFWHoq9AVSG295NYOizCkv6xT5sjJVWgODA113OnHhyJC1m259eQj1uDVPqSsFNW7eD/DF+67x8zLmC24U2/dvqqE0ThH/AqNffrsMonaTqqqvKi8SX66Q5SlT4Kbqkd1yZyaBfdDmdFD/e9WW/GpPdEA02LEqEdrMfPpWzHHFR7IopiF6kQNYwJm3zGvOW9jegtBRiDDCXtrA7s5rr35IGA5aFAKn1J2CmrtvuZAa4yLHdfb7MM5X3HOBKUCkwBQtQa7IEPdUlaD7tTZYp+NQBRI66GjoNbWaIGUD32eb3O1yXy0+uvofLQDXxw2aN0TY5GVQ2gc1Btqzsbls58FIANx78LSqzKnNuoPHQDdw29i/cueI+x6RcDYHM1LdpnU5BKXxJ2KqxOjPXEG0+lmBJiSKCCe42fisLrvuLoVeIwl03XfLupJDxUV4sH8Ybut0PW1a0sTcOoXkrfUCuPb6fEKPY9dg/DM9L48vbRoOpRFEfA3LmWTh9g6bQAxRCiU7OqCWdFb24aeBND2g3h4m5/AMDq8Ddzhgqp9CVhx+Fy1av0U4ZdSokag8E7rV3m2ejMYqNL56jif9sL+M+Gw+EWVdJIrOXF4sLYVh7IXkpfqdvNMinGJN4KFCd5pUXuctVpBpwY47dgjN+KOVWEVc6M7x6UVKmxZkx6jxq2GMUegdVZHdS49RG61PUSSR04nCoGxcm3zuGscA3mhsxikgxWUi97HoxRGE2xDMq+wK+fYhJKf9HG/by/TmQomjq8DXmLnMJ89dYcrgcG5H4E/KW1xWkQ79V97ZW+Pyr6qEPM+2E9MZpOV/RW4k57xN1CH30IgMyEjKDkWvPQuT73Fm1j+P11+3l8bFBD10mwK/17gF+BbcCHgAXIBH4C9gIfAzU7Jmbtfq9WH9y3JWkzOF0qRhwcVxP40DmOXjfNJ3XGAohrD5Z40OlY4Bzn10+vnfC8Uv89Q5XdjNdtbGnRJQGosjm53voeAPqRf2xlaRrHzWd5QkQ0pPT1UXko+mp0poZj4PRM6hmUXEa9DqPXSj/3hPZGrNg5VBSevaxglH4n4E5gODAA8f40DZgLvAD0BE4CNcEtbtTue2r18sjlbwSHS8WEA1s9L5b7Xf5x2PXaSn+gLofPzbN4w/Rc2GSUNJ7ZCz2eLMahkW/PB5jY3xN+wanWvUHrS93tbCdHAHDTwJuCEcuPBC1Ms6I46oxKGyzBrvQNQJT2OxrIB84FtN043gGmaNeXaPdo9eMIf5gJSQSgVJcQRxWd0jszpk/gzEdWAri+6f0fEvKgVutQafNsbI487OVuG9u0TFatRWGlJ7TBLwW/NLKXUI9/GfEMw2NvcJeKOPgKOOOIMjQ+UXtjSIoWeyTmdkuJNofH+h6M0s8D/g4cQij7EmAjUAzuXbtcxBsB2u+anTiH1j4lwLg3AxuADYWF4Y1BIWkZTCX70SkqfYacydvXnx6wjY/Sv1FskiVEecoqVTPH1EQyH1oSMFKnJPSs2VfEo1+I5CJZf13GgMe/JWPmYpJPbGqgZ+TRMdbzJvnU2U/V2zbOINSSPmYfAOX2YtItngQxiqEcY9w2ooymgP2DITHaM6YuTEviYJR+EmL1ngmkAzHA+SGQ6TWEyWh4WlrbWEVI6kd1CvczpR5Pj8/vEBtah11p0GWEu/zneGHrFy6d5YBKfkn4PBskHm54fQU//LSerbklWB0uhis7ybFMZ7RenBa1X/lhK0vYePom92Xx7xez5dotpEal1tv2vI7CIm1KWgvAvrJfeWi8766qYqhET+hDIMdZDDjKxT6BM0yhGIJR+uOBA0AhYAc+B0YDiXi8gjoj3gjQfte4XhiABMDjEyU5ZXHahdLX17My6tkhgUnWJznP5rvVE5veB4DymK6YFQc5lqvYf+RYoCGC4pP1h9l0uDjk47Zl/m18gZXme9jw6h85T7eeT81/9ak3ZpzZSpI1j67xXVEaEQm0ZqO3Jvb+hd0vJMbkH27BVY8bcnOJMRlwVndGVfU4nOHJmxuM0j8EnIGw5SsIG/124Hvgcq3NdUDN+fuF2j1a/XeANND+Bqi2itOFUZa67Z9GvY4J487nszsn+JT3nvo3rJe/T0mH0e6y8pOhj7z5wGdbmPKvH0M+blvmd3ph2rne8K1PjCQ3UYktLFHLoFfECl5nOkGKJYVh7YcFfFg41NCfmrUYdeijc1AUJ+sLwxPaIhil/xNiQ/ZnYKs21mvAg8C9CNfMFKBm1+dN7X6vVj8ziLklbYjySuGFEG2pPzjVXeN70S+9VqhevQHzgItxGDwJOnbkHAm5jBJfLnrqs/obhHgDM5LwDtPw5ZQv/eLeV+WJpCk2tSLkcyuKQlyc2MvceuKnkI8PwXvvPA70RbhsXgNYgf3A6QjXzKlaGUC1dt9Tq5cpkX4jLNkk9u/N5uZHJDQPmOS+PqfgvaBl8kZVxTkCHeF5nY5YHFY4sR8q/f3R37XeVXe/u7fBXW1vM7exeJ/YjTX6RuHsndQb1ekfmTOU3D9YvFWdljiigZbNQ57IlYQdg+bvrOib7+2QNWgweWk7ML81gaEV2ZQe3U98h+COwNdgc7rYY7mW/zmzgItDMmZbwPreFZgPrhA3s0qwHduNQzUQndrVkwKxFg7FhCHx1D4V7X14y3vVv+zyZcSb4hnw8zuBuoWMaKPw1bc57Q20bB4y9o4k7HRQtP16S/OzDAF06pjOB50ewaw4+NdHC0MgmaBay4k6Xt9Y/+1TA7fCB47k7ML08giiX8kib8GtnkY3LKWwz3ROXv4fuPJ9DLevbgVJW5YEY3LA8g4xHYg2RtO/Q3sA4g3twzJ/kknMX1gdHjOmXOlLworD6eIx4wJxExs4dnhTmJDVEw7A8PTQ+UhbrdIFtHz+791LwPh9X4ECVtWAuetI0rqObF3hWphkS6DjQx5emT6aC/4LEzLPCsv88eZ4VJeRSnvo9wxAKn1JmKm0O3FvzeqCf7GMjxceI8nG0L362is8rppF5VZ0ioLJoCMmTCciWxVbJRTugHTfvLC9dXnu6zilCgCzEnqXxLaAxVD/gqJzfHs+m/wZmQmZYZlfr1NA1VNmC89i5BT8q5ZEErvzSxkewvEUi9hEW7RhL3FnltG7fVzQY9orPUp/9JOLqUZsON8/sQ8928UysX/wbygRw1P+MY4kvpgMDavF3km9G2zTXAw6BVXVs2Z/6M+jgLTpS8LMjH+LzEJbev9fSMbTm4XSj6aa814IjR+zvbrKfb3CfC+DlH3cql/InmVv8u/3286p04ZwljWsRL4znO25GXlr3Q1PYcyG0J+0bQo6baVPmN605EpfElYsCDOM3Riagzw6gxmbqidGCd2rr93uOWTTQTnJQvNjtVrcE7K5WpP9Bw/Sy+t+nmMKtxkWYvByVT3XsdLT4ILfZiBci7F11WKUUQ+qAaWeKJ/BIFf6krBiUUQIhuPVoYkeZdApVGEmBqH0t+QWBx2AzW4LXz7ScLOnoIyy8nLQoo+uffthqh9PxeXwXyUm/Pquz/2dT76DdfJr7vvDt+4jTxWbmGW9pvBbxRwgumtL0i7OLNI76sKj9OVKXxI2HE4XQ5U9AHRJC85dswa9XiFeqWSGYSm9TEVMfgkGdkpg0R3N96RwaBtmLp0Rnct/g9jqcLb6K39dPPLiv/nE/DcAHNd+xRk5/wIFCo8eIK2ztq6vKIIPrqBd3ga//jFDpzLq22TyS6pYbYlBiesI5UXoJ/6tJT9GRNHaK32DXhdW845c6UvCwra8Eno+8jV3Gj4HoF9aaFwsDV7xZke7RCatrXklTR5nfc4Jlv56FACHFhDu0KTA9vv+j37Fyj2RGea7RuEDGN71nFpOe2M4eT9qn+fZ7uCl8PeNmAV/Oem+v+PcXoBCcoyJDjd/iuOieUSndg277JFKjdLXl41pPSFUA4oizTuSNkT27mNM1q1mi6qdmh08LSTjRpt8V2EX6dbSoVaw1pIqO70f/ZrdBYFPlQJMfXUNN78nHhpOzaZvMgUO/dxFKeSaN9e1uTj+Maue4te8kz5ln+gn0WncrT7us9NHdiVnzkVYjHqU+I4YRlxXe6jfFEa9jrIdT8OJSQ03DhP6qFwMsbvCMrZU+pKwoGz/gnmml7hUvwr6TQFD8+Pu1EUpMfzLNI+1ljsAKLc6eH/tQa558ydsDlejvXusa0VMwGhnqU/5tnQRLHaq/gcsWPl0Y24IpQ8/BZ0nohb5hri64rEFWOqJdipBy1mr4GjFZ7z12ESsx89tuGEzkEpfEhZs+ds9N1NeDssc3qkTrQ4n019fy6NfbONgbh45lulsMd/EO6tzuOyV1djriE2uqipjWQ9AglpK72oRV8Xa/0qiuot48bcZFrLTcj0xh38Iqfwul8on6w/XK1ulrW67rstR/wG10tjuWFR52ripmA1CLXZNjm41GWxFY5nQITxvXHIjVxIWJrQvgyJwxXdBZ4ppuEMzSFA8iaMd1mq25Arb/lzj6wDEK5U8vlBkeSooraZzkvhHXG13osdJR+UE5z3/A2+pqXRWjqP0vZDNf42l2nUUi8lMwubFPvOlFW8Crg2Z/F9uzuOBz7bw6g/76BVdzrThnRl7+hB3/Sff/oDlx7mMuvdj2iX5hpzOPVnJNc98wPdm2NvhInoeXYxLZ0J301IK83JIWzyD4o2foWvXt/a0kgawGPW8ce1whnRtvXwBOXMuCtvYUulLwsJJvUh1qbthScjHfsNxATcZvvYpc1hFnJL3jE9xtn6bV40KKO4kGEu25nPbgp/JsVwjqsugQjuBiyUBYfgQ/03t2s9njsG5H+B0PSeOyYeAkko70/TfUXwillfLX4Ql8POB++neIZnEs2+hx+r7Ga7fzb49q2h3+oU+fbds/oXvzX8GoNs5V8PHi9ENuxbSs7AaxCbsBN0G+Pb3AFSa2xF9gW/mK0ndjO8XnmBqkYBU+pKwoHNUcIJ4khND7wXypOMaP6VvrxZK31fhwxBlH5vUnm5T0OIt+X7jxSh1+Okn+cZWiVOqyHh4MTlzQrPBF12ewxzjGz5lQ3c8CzsgtzCXLM3d1VJ20K9vl7yv3NfG0y6EG5dBp2EAFNsNdK7VvuiS94jud0ZI5Ja0baRNXxI0GTMXkzHTYwrZX1jOscJCqpSWs4k6rRWYsfmVd1KOE0U1N74tXBaNthIeMizwH+DMO/3LdDq+cvpGmMyxXMXGg/5JR5pDwoG634Lid39KIcK80Gmlb5I5m8PFwZ0/A2CN1mLpdDkdtNjvfTv4xiPKmfg2XaTCl2hIpS8JGa9nC0+RSf9cxWnKQY4ZO4Vtrg8cvp4NTmsFyfi7aN5u+JIdlhvILFwOwDkHX+QWw2K/dpwX+DCSE/9DWfe++t+QuG+mVeypsy7eVkAHxcvd0uWCDfOhrICrHnuBSfq1ANhj0/36GvS+/6wzhl8QtKySUwep9CUhY/aSHdzz8SZMtmJ66/L4xRo+pf+C4zLed4zj+wFPA+CyVpCsCJfLOXbPmYB+OmEaedX0IgCxzrp99wOR0G2QX9kP5nt55/utzZLbmwxb3Uq/Ns4D2fDVPfBcb/5j9rLN97uk3n5F7c8CY+DzB5LfJlLpS5rMkq35PPmVxyXzL4Z3ybFMZ7LuRxb9cpBNllsAuJav6hoiaApJ4lHHjVSYxIax4+A6btZW8A9eVndIBhdem7BXfwYZZ8NN39XZ/qxrn2B93wfYPuF9n/Lux78PQnrBaltPz010Kty3h93j3wrYtviHwG6vsWPqyWULpPwpwFuN5DeNVPqSJnPbgp95Y9UBSqvtqKrKDYZvAJhn+hd7LR6XxpLT7w6rHO/ecDqf7xFmloyfn+YSvUjlp6Rnsd3VLWCfiXph269IHQw9x8OMr6DzsDrnMJgsjJj2CP1G++bONTgq6+jReKI6aEr/0UJ4YB/EtuNQ1GkB26Yc+rZJY29zZQQrnuQURSp9SZPwtmXbHS7Krf6Hh46mT4BZJaRc9HhYZJg/Yzgf33wGv+udxnlnjvBvEJ+O8eZlPkVW1cgszWcfIObGL5s8b8XM45ycIU756pzBH3qy2EuowAJemZrOzfL1qz+uxtfu1ihS717F/lv2BSWf5NREKn1Jk/h4/WGm6leQY5mOy2Fn4Cz/FeiR9PPCKsO5fdszsrsIATygayoAh1xpngbGaHp19vhZr449j2qMvL06hx9NZ3FY3wWikpo8b4zFSFKX/kBolL7ZXkoZvp42Oq8zACcG/ZFVprNrd2sUHZLj6N4xNSj5JKcmUulLmkT/9HieNYoY7C9/s5EZeqH0c5M8ro0Zg5unqJpDhwQLRWocK1yek6w1cX4+d57FSucAbCUFJCiVTNWvoLKqkhJ7EGGS9Qbsqh6dM/gY/AZnFdW6ujdZK4bfzog/vRaw7hXHxbwz+n9ByyD57SGVvqRJWCqPuK97J7iYZRSJOXLbjeF9xzj+Zr+K5C6B7dLhIDXWjB0DRrzMTNrp28PnvMjKUW8wRr8ZgGeNr2HGji3IM4lWTOjrWOn/88XZOB5P4oVXXmFR9k91jlFaZWVIeTYZrsN+dU5VyG8wRdEpORZmeUJHl8T34ffWJ5jr+ANnDWm571ly6iCVvqRJGCqOuq9XrFzhqTBaeNRxI286wxczpC7sqgGT4mCrri+7oj2bsneN78XDF57GU/Y/uMt+p9/KUN3eoOarwsixE8V+5S6Xyh3Fz2BQXNxTMJPzlovQCSt2HaOwzPNmkPv5o8TPbVfn+EsVEejNYPaPhplw7zrOHiv87lNiQpOjQPLbQoZhkDQJp9efTG/FE2rYVVUaqHmL0EVXSBcK2U4vnIr/n/SgzHQIYVTkFMo42/6jX/m3SxfhfQzKrDiotNqY8dZ6eqTF8PlVXUl4NcsvREJtEv7wOveuWM+zCZ5N3KIrv0Ifm0IicPf43vzxd92JsxhD8nkkvy2CXeknAp8CO4EdwCggGVgG7NF+1+yYKcA8YC+wBRga5NySVsDl9ITz/bPxU/d1/98/yCMXnsbiO5uftjBYdKoTVfG31+d0vdTnPj85gMdPU+ZRVJKUcg4f933Q7Vn1mV/bI/n5TNStI/n4RhJezWrU+Gf26cTzt0zxCeyWctrZJHYRAeB0OkUqfEmzCVbp/wP4BugLDEYo/pnAcqCX9rsmcMgFWlkv4GbglSDnlrQG9iq/oif7fkFCbBR//F13+qeHJhduc1CdDlwBlH5KYjwO1fOnfiShbr/8pnBgsydJy+6CMk5TDvm1OVpcwb9NL/qeovXCObNtJWaRtH2CUfoJwO+AN7V7G1AMXAK8o5W9A0zRri8B3kXEul2LeEvoGMT8khbC5VJ5b+1Bqm0Oyo74pnA72f9aHp02tpUk88WEnbxS/8QiVw7vQk+r50Sttdr/wdUcSk+KvLnVdif7Dx5igl4EQavoNZk8VbiUrvyx7uxdJYn90Fvi6qyXSMJBMEo/EygE3gJ+Ad4AYoD2QE382qPaPUAnwNtVIVcrq83NwAZgQ2FhZCaj/q2xaMsRHvtiG88+cRdn7njSpy7pkjmtJJU/HZUT2FX/P2mdTmHNQ+ey2SXy9ZoCRONsClu10665m5ZzvNzKPe+v5ZsvPA+VmD+8zfHoHgA8VPhgwDFKorqScPeaoOSQSJpDMErfgLDLvwJkARV4TDk1qNpPU3gNGA4MT0tLa6itJMz8+4d93PXRJgAeMwrF9unor1jmHMbzHZ6BMGXFag7RipUEXeBVfMeEKPpd9H8ADGkXhJ8+MMMmFPmthkXMfupxpuz/Cy+avGLj6PT06NTBr59d8eQJjrq9cfl7JZJQE4zSz9V+apyRP0U8BArwmG06Ase06zygi1f/zlqZJIL51/fCvXGosttd1qd7Bn+0/5ll1n51dWtRRlR7FO7v+KXOdsZ0ETHT0D44//YyPHkC5hpfc8fzAdjVVzxYzOfe79fP2dNzUtkU2/QTwRJJKAhG6R9FmGv6aPfjgO3AQqAmo+91QE2Qk4WIBKMKcAZQgscMJIlQhnVLYozuFz43z3KXtU9NBuBYaWQk3S4kkTttQtkeVOpxiOwyAv60Gs64Laj5bHg8Z0yKb1z9n8pE6ANjor8clrNuhymvwNWfBzW/RBIMwfrp3wEsAEzAfuB6xIPkE+BG4CBwhdZ2CXAhwmWzUmsriWBUVaVT/jKeND3rU24wCKXnVJtquQsfBapYOZfpGtgYbd8/6LnO7JFS5zvq9KtvFBfRyb4Vt66CDgOh26ig55dIgiFYpb8JYX+vzbgAZSpwe5DzSVqQXQVl3GX9N94h6F+L/RNXamEOnK7IUfrxisiRW6WLDftcC24aCU/4l6tXvIshyjcqZqkaTfx9v0Ccv41fImkN5IlcSZ0cPFZCX6XEp2xE1Y/EWgz0ahfLn8/r3UqS+WNGuGra6glgFioURSGz+n1SKWG9xbOOUWplsdrw+1XEJ8QTLxW+JIKQSl9SJ8989A0TtfAux9RE2inF7Dnt/8jSKSy795zWFa4WS13D+cRxDis63MLoFpjvlauHc6KsErTI0tWqkdqPm+GDB7aAJBJJ05AB1yR10p8cAI4lZmGeuZfnB3zB5Esub2WpAmPDyAOOW0jtGDhjVqg5f0BHpo/qwYLoqwH4Z3Rwm8MSSUshV/qSOpllfBuAA93/wMgoI/deHhknb+viySkDuHRo+JKxB6Lr5EeY+Z6FaTeENzWkRBIqpNKX1EmyUg7A8PaR/UI4eXA6Czcf4eozWmaV783ZfdMZ+cSzmAyR/R1JJDXIv1RJg+j1wZ1gDTcvXDmEnX87v9Xmlwpf0paQK31Jw8S3rMmkqeh1CnpdZD+YJJJIQS5RJHWS7dS8T3pPbF1BJBJJyJBKP8LYePAku46WtbYYWB1OuijH+Mo5suHGEomkzSCVfoRx2Surmfhi60dgtNmddFaOk9I5cg5gSSSS4JFKP4KwOVytLYIbu7USo+LEGJPccGOJRNJmkBu5EYTD5eJuw6fkqynARa0mxxsr91N2/Aj3AK4IipcvkUiCRyr9CMJud3C3oSbs7t9bTY4nF+9gkLKPe8zgNCe2mhwSiST0SPNOBOGwhSZ3azBU2ZyYsfGK6UWsqgFz7/GtLZJEIgkhcqUfQTjtXrlbq0vAktDiMuw8WsouywwAcgyZDD2tR4vLIJFIwodc6UcQDrvVfa1WnWwVGRZeqQAAEeNJREFUGcwGzyGn9PH/1yoySCSS8CGVfgTh9FL6xdu/bxUZokwepW8646ZWkUEikYQPqfQjCG+l7zAE6TVjLRM/TZXBYQ9uXolEEtFIpR9B2L2UvssQFdRY6tNd4Ol6koTXRVUxAL8OfiSo+SUSSWQilX6E4NjwLr0+Odd9r9grgxpPQctfm7exSf2eWbwZANUQ/rSDEomk5ZFKP0KwL5npc6+rLPS5f2XFPl7P3h+4s1orQfmS+z3Xr58LP/270XLszCsSQ+pMje4jkUjaDlLpRwhRrgoANrl64FIVlApfpT/3m53MXrKDq175gTNmvovdqYVsKMmDJxJx/vKBp/G613wH//qB+if/cDrs+hoAk5ZgvKi6+Z9FIpFELlLpRxjZroGUEs3unEM+5VfqvyfHMp0FBZNZa7mDZcuWAHBg1yYAjnz/hmhYURRwXOuRbf6FB1fD+5fDrsXw4TQAzDjEeOWREwdIIpGEDqn0IwG75yTuCucQ7Biw2aw+TeYaX/e5T8kXkTh1m8UKv0vpRnG469nuAacwvzYaV23PnLcugL3LAFjl7A/AVP0KAC486/RmfhiJRBLJSKUfAVgL9wFC8ebHD8KGAdXpUdDVdqdfn5EHhZ2+uvCAu0w/O819/WGnh9nd9zafPtWVpXB4PQClhbk+dfvVdABmGJYCkJCZ1ezPI5FIIhcZhqG1UVW2L3ubLGBLl6sZEp2IY7ceu9dKv7DMSpcAXUsqrPSx/epX/r1zMNNuegBFUWDWy+7y6Oe1t4CrPqWkuJp4rz7XGpZBWYH7XpHpByWSUxK50m9NnA7y37merAPCdDOidxcem9QPOwasViuFZULx/2djbsDuk19cHrC8Xbe+QuEDP/W8x6+++KvHOJyX59/xud440LEh6cLmfBqJRNIGkEq/FTn01Rw65vzXfa+LSiAx2khP3REm6ddSVVEKwOiuMdhVPftdHRhY/Ya7/cTKhQHH7X/R7e7r2LP/xAaXb/arxJIdxNqOB+xrwEWxqWOzP5NEIolsQqH09cAvwFfafSbwE7AX+Biocfg2a/d7tfqMEMzdpun6y7M+95WJvbB4BTxLXTABju/BVLofo+LkOccVdOvUwV3/sPFDvzErVTN0HOy+79+tPQm3LMalKj7tBm0Xc5+Y8j4vOyb71O2oiG3+h5JIJBFNKJT+XcAOr/u5wAtAT+AkcKNWfqN231OrnxuCuU8pbC4dOp1HOUeXHYD1b6LaxOncCizcP7Ev76kX+PR733kePavfpYQ4tg5/ym/cLu1S6Of6kGtTPvCri+o9jmcc09z33zsH88LxEaH6SBKJJMIIVul3RuT1q7E5KMC5wKfa/TvAFO36Eu0erX6c1v43y1fOkT735/ZtB8Ac+zQ+dozBbkkFRzUuuzgp9ZcpQzmndxoVTvE2cEJJgodyufjhD1j32AUkzMpl5MX+kTEtRj07/3YB797hn4LRYrFw25ge/M1+FSC8eJ64ZGBIP6dEIokcgvXeeRF4AIjT7lOAYtBO+EAu0Em77gQc1q4dQInWvrZx+Wbth8LCQk5lEo1OfnV04zrbTPQ4+UnbfH3VKcwtv9ffx9o9R9mbWsBwQDFFA2DT/reVOY0km+NoSqqVqu4Tidr/LQD7XR3ortPxwPl9Ycwcij4q4Yap/0CJSQ3ZZ5RIJJFFMCv9ScAxoGkRvRrmNWA4MDwtLa2htm2aJJMTnSmKscP6M3Ws/2Eop2Lg6MkSftwpvHf0ZqH0b9GL7ZNuumNNnrNy2K3u67vtng1fLPGkzFggFb5EcooTzEp/NDAZuBCwAPHAP4BEbVwHwvxT4xuYB3RBrP4NQAIQOGbAb4GTB+lf/QsAz04dHLBJbqmTKfrVTNH/f3t3Htxkncdx/J30pFRoCxQoV0EBFQG5lMNFkcUTxJuKKx1FWUdRsPwhroyL4+oCO6MuuuuF64oH4MXIrgvKpeK4soKoeCCHolxFDgE5Sps2+8fvSZOmSUhzPjSf10wnT355jk/SJ98kv+f6GPAW/SyHK+D44agqOpc5rkt5znU5Hzw0NuL5iMjJKZpv+vdhinoxUAKsAG4EVgLXWuOUAm9bw4us+1iPrwD8Tg+ZOubOeeyE41T6fCavqelGdoE5P/5ThQ8AsKXl8AYvt01+UzIum8F/pl1PdoYOwBJJNfHYT/9eoAyza2YL4Hmr/Xnr/mbr8akBp04R4468AMB3NfUvdLKsbCjLp5yPC29Rfm/gXFrkmd77NS5zZO2ertdFtOzSwcW0yM2KaFoRObnF6jQM71t/AN8Dgc7WVQFEVqUasY73rKjXdlqh2S7+Pd4LqUy5yHuA1fKdmRTzKlfsL2Jg/COKSCOiI3KT5KA7h//Siyb5rYOO08VZDsA81zCyfA7a6tsxDwBnSu/wKiKR0AnXksQBOApPD2vcA33vrHN/we8HMWvJBu644LQ4JBORxkzf9KPw9Adb+N2c1RFNm0UV7rTQ/eq3VZbxSc0Z9Op5dp32jDQn919+JvlNdUlDEWkYfdOPwozFGyKb0O0my3Hior+0pj9LK/uzqElGZMsREfGjb/oxdPh4ePvP15Sbc+BXZYR3YrOe7RpyzK2ISHAq+jFy/8L1nPXHJbz3dXnI8ar3bsH5zBAANrcZGda8PefGFxGJlrp3otCUY+Rirm975NNX2Zr9d3gdarrvw5ke+KVNe7IvAN/WdOA3Z4e3IVdEJFb0TT8K8zMfYnX2RADKsrwXQ6msOh5sklrOM0fTrfUpJxxPRCSWVPQjtOPAMXo6twKwbsOWOueIrqgIUPRdlQD8UGP2y+9+1X3xjigiUo+6dyK0eP0uPGeu7zO/L4fd2bVXB6g8fgSqm8HCCdDjalhgzlVfU7KAzs7dvJZ+BddnnXgj7tt3DqGiqjpOz0BEUpGKfoQefWcdt2Z77+c6KmqHFz/3R0qr3zR3vnqztt05fwwA5e78sJbRu0Ne9EFFRHyoeydCszLnBH2stuAHMaBru5CPi4jEi4p+hLpl1L2AycNVY1lYPSSsaav0A0tEkkRFP0Lp7iqWVA/g4uMzeKN6KGMnzaRryYywpn1juw62EpHk0FfOBqp01bD2kxUMqvmR9unljHhwKcddt5GTmc629PonQFtfU8y8wnt4ZO+k2rbJIwckMrKISC1902+gR5duZNCyawDIdB8nzekgJ9N8dnYoyKG44tXacU89/jLvDJzP5NIS7q6cWLu7Zl6OTpQmIsmhb/oN1PqbF2qH5zKScX6PLys7n4VPDOEnd2u2/HlUbfvsRx7mtw90Z6RrJWOadUpQWhGRulT0G+gyVtUOX37TlHqPn1aYy8FbX+as7Ppnxpxbdh0L1w2mTfMmcc0oIhKMin4DbasuwHOtqxan9g04Tr9OBQHbi/KacOcwXfhERJJHffoNtNPZxgxM25PcICIiEVDRb4CKY0coPPQVO90FkK6NsSJy8lHRD1O1y0X2zCIGOr9l5xnjkx1HRCQiKvph2rhiLgAVZNK/ZFqS04iIREZFP0x525YBsGvIn5KcREQkcir6YUo/vBOArJ6jTjCmiIh9qeiHKffgRlxuJ83zC5MdRUQkYir6YWpSc4T51cPIyUxLdhQRkYip6AP8Wg7PDIUDP0F1FUxvDp+9ZG5ndqbaVQXAbnc+DofjBDMTEbGvaIp+B2Al8A3wNeA5jWQBsBTYZN16LhPlAGYDm4EvgcCHsybDR4/Dri/g8Z7wUEvTtshc8Jxj+3E8PwKA7KysJAUUEYmNaIq+C5gCnAkMBO60hqcCy4Gu1u1Ua/xLrbauwATgqSiWHVurQ0dx7loHQIsB1yYijYhI3ERT9HcBn1nDvwLfAu2A0cCLVvuLwJXW8GhgLuAGPgHygLZRLD82XJVhj3oop2Mcg4iIxF+s+vSLgT7AaqA15gMBoNy6D+YDYZvPNNutNn8TgDXAmj174nh+m0d7wPTmuPdtqvfQiuqzmVD0Fkfcdbtzxg3uHL88IiIJEIuinwu8CUwGDvk95rb+GuJZoD/Qv1WrVtGnC6TyKBzaDoDjqcH1Hm45ajrPThjOwU4jatueOOt1sjO0546InNyiLfoZmIL/CvCW1bYbb7dNW8BzBfEdmI2/Hu2ttsSrOlqv6XHX1bXDOfnmx0nRRWW407Ph7nXcde1FCYsnIhIv0RR9B/A8pi//UZ/2RUCpNVwKvO3TPs6abiBwEG83UOJUHqVied0LmJdV3s41ZX9jyfAlvNJ0HEUdu5oH2vfDMW03FHRJeEwRkXiIZqfz84BVwHqgxmr7A6Zf/zWgI/AjcD2w31rWk8AlwFHgZkzffVD9+vVzr1kTcpQGqdqwhIz5YwA47M4m11EBwKGpe2kW4EpXIiInI4fDsRbTTV5PNFfO+ojgHxrDA7S5Mbt1xt0vRyqZtOBzLuzeiun/+qa2fWv22NrhqysfZN6lTpo0L1TBF5GU0Sgvl5iW5uDDjXv4cGPdvX9ecF3MzenvArBg2i3kN9WFUEQktTTKop+b6X1apYM6UdyyKae3acY5uV3gqXfZeeFfKVLBF5EU1CiLvtPp4LExval01TBmgO8BVS1g+kGKkpZMRCS5GmXRB7iqT/tkRxARsR2dZVNEJIWo6IuIpBAVfRGRFKKiLyKSQlT0RURSiIq+iEgKUdEXEUkhKvoiIikkmrNsJsIezJk67aIlsDfZIQKway6wZzY7ZgL75gL7ZlOuwDoBcboKVWqJ3XmeY8uuucCe2eyYCeybC+ybTbkaSN07IiIpREVfRCSF6ErfDbc22QGCsGsusGc2O2YC++YC+2ZTLhERERERERERkcahA7AS+Ab4GphktRcAS4FN1m2+1X4j8CWwHvgY6O0zr0uA74DNwNQQyyy15rvJGgY4Bfjc528/sC3BuZYAB4B/+7V3BlZb0y8AuhC71+wfwM/AVyFyhXoOE602N/CRTTJ5zAaOYJ/XahXe9Wsn8G4SsgUbz3eZH1pZo80V7L0dSDjrV68g80tGLo/ZwOEQ00sAbYG+1vApwEbgTGAW3hd5KjDTGh6M9596KaYYgtngvQVTEDOBL6z5+CsAvrdu863h/ADjfQGMT2AugOHAKOoX/deAEmv4aeBeYvOaAQy15hWqWIR6Dn2AYswH5IU2yQTQH3gJU/Tt8lr5ehO4K8HZQo3nu8yHgX/GIFew97a/cNavrUCPIPNLRi7wrmMq+lF6GxiB+XRta7W1te77ywd2WMODMN+cPO6z/vzdADzjc/8Zq81XN0wR8z0aOt65PC6gbtF3YI4a9Fw2039+0WTzKCZ0sQjnOWzFHOFoh0xpmG9yban/hrTDa9UM+MW6TWS2UOOFWma0ufzn4y+S9SvZuUKtY1FLpf30izGf7KuB1sAuq73cuu9vPLDYGm6HKdQe2602f+GMV4LpRnEnMFcwLTBdPq4g00eTLVwNfQ7JzjQRWOSzXLvk8rgSWA4cSnC2UIItM1a5fOfjL5L3SLJzBVvHYqLRXhjdTy7mJ+9k6r4ZwBRft1/bMMw/8rw4ZCkBbrJhLn92zJbsTEXAdZhfTHbK5esGYI5Ns/kuM1a5Qs0nEsnOFWwdi5lU+KafgXnxXwHestp2U/cn288+4/fCvGlGA/usth2YDTQe7a22c/FuPLsixHgevTEftGsTnCuYfUAe3g9/z/SxyBZMB59st4d4Dv7SbZCpD3AaZsPbViDHGk52Lo+WwDnAO9b9RP4fQwm0zFjkCvT8Il2/gs0v0bmCrWMSJgcwF3jcr/0v1N04M8sa7oh5gQf7jZ+O2SjbGe9Glx4BllcA/IDp48u3hgt8Hp8BPJiEXB7+ffoAr1N3Q+4dMcrmcaK+4HCew1ZMl5idMoHpb7XTa3U78KI1HKt1LNxsocbzX+ZXMcgV7Pn5C3f9ahlkfsnMBdqQ22DnYX6OfYn3U/YyTF/2csxuWMvwFuY5mI1gnnF9z5R3GWZL/Bbg/hDLvAWzMmwGbvZ77Hvg9CTlWoU5VfUxTP/hxVZ7F+B/Vt7XMT9XY5VtHqZfsspa5ngCC/Yc7ramc1mZ9tsgk6+j2Oe1AngfsxsgxHYdCzdbsPF8l/lpjHIFe36BhLN+7bVRLl8q+iIiIiIiIiIiIiIiIiIiIiIiIiIiIiIiNvZ/zTchHlzBKbIAAAAASUVORK5CYII=)"
      ],
      "metadata": {
        "id": "jirLg-2TBu5u"
      }
    },
    {
      "cell_type": "markdown",
      "source": [
        "![image.png]()"
      ],
      "metadata": {
        "id": "lhrruk0WHToc"
      }
    },
    {
      "cell_type": "markdown",
      "source": [
        "Required installs:"
      ],
      "metadata": {
        "id": "PppXjPUniNaA"
      }
    },
    {
      "cell_type": "code",
      "execution_count": 1,
      "metadata": {
        "id": "qAkC_UpnzveB",
        "colab": {
          "base_uri": "https://localhost:8080/"
        },
        "outputId": "2ba6f7a3-e8f4-4669-c382-2926b97b9876"
      },
      "outputs": [
        {
          "output_type": "stream",
          "name": "stdout",
          "text": [
            "Requirement already satisfied: yfinance in /usr/local/lib/python3.7/dist-packages (0.1.70)\n",
            "Requirement already satisfied: requests>=2.26 in /usr/local/lib/python3.7/dist-packages (from yfinance) (2.27.1)\n",
            "Requirement already satisfied: lxml>=4.5.1 in /usr/local/lib/python3.7/dist-packages (from yfinance) (4.8.0)\n",
            "Requirement already satisfied: pandas>=0.24.0 in /usr/local/lib/python3.7/dist-packages (from yfinance) (1.3.5)\n",
            "Requirement already satisfied: multitasking>=0.0.7 in /usr/local/lib/python3.7/dist-packages (from yfinance) (0.0.10)\n",
            "Requirement already satisfied: numpy>=1.15 in /usr/local/lib/python3.7/dist-packages (from yfinance) (1.21.6)\n",
            "Requirement already satisfied: pytz>=2017.3 in /usr/local/lib/python3.7/dist-packages (from pandas>=0.24.0->yfinance) (2022.1)\n",
            "Requirement already satisfied: python-dateutil>=2.7.3 in /usr/local/lib/python3.7/dist-packages (from pandas>=0.24.0->yfinance) (2.8.2)\n",
            "Requirement already satisfied: six>=1.5 in /usr/local/lib/python3.7/dist-packages (from python-dateutil>=2.7.3->pandas>=0.24.0->yfinance) (1.15.0)\n",
            "Requirement already satisfied: certifi>=2017.4.17 in /usr/local/lib/python3.7/dist-packages (from requests>=2.26->yfinance) (2021.10.8)\n",
            "Requirement already satisfied: urllib3<1.27,>=1.21.1 in /usr/local/lib/python3.7/dist-packages (from requests>=2.26->yfinance) (1.24.3)\n",
            "Requirement already satisfied: charset-normalizer~=2.0.0 in /usr/local/lib/python3.7/dist-packages (from requests>=2.26->yfinance) (2.0.12)\n",
            "Requirement already satisfied: idna<4,>=2.5 in /usr/local/lib/python3.7/dist-packages (from requests>=2.26->yfinance) (2.10)\n",
            "Requirement already satisfied: stockstats in /usr/local/lib/python3.7/dist-packages (0.4.1)\n",
            "Requirement already satisfied: pandas>=0.24.2 in /usr/local/lib/python3.7/dist-packages (from stockstats) (1.3.5)\n",
            "Requirement already satisfied: python-dateutil>=2.7.3 in /usr/local/lib/python3.7/dist-packages (from pandas>=0.24.2->stockstats) (2.8.2)\n",
            "Requirement already satisfied: pytz>=2017.3 in /usr/local/lib/python3.7/dist-packages (from pandas>=0.24.2->stockstats) (2022.1)\n",
            "Requirement already satisfied: numpy>=1.17.3 in /usr/local/lib/python3.7/dist-packages (from pandas>=0.24.2->stockstats) (1.21.6)\n",
            "Requirement already satisfied: six>=1.5 in /usr/local/lib/python3.7/dist-packages (from python-dateutil>=2.7.3->pandas>=0.24.2->stockstats) (1.15.0)\n"
          ]
        }
      ],
      "source": [
        "!pip install yfinance\n",
        "!pip install stockstats"
      ]
    },
    {
      "cell_type": "markdown",
      "source": [
        "Imports:"
      ],
      "metadata": {
        "id": "DxocXeiBwFl8"
      }
    },
    {
      "cell_type": "code",
      "execution_count": 2,
      "metadata": {
        "id": "xNujsuEzn8mQ"
      },
      "outputs": [],
      "source": [
        "from pandas_datareader import data\n",
        "import matplotlib.pyplot as plt\n",
        "import pandas as pd\n",
        "import datetime as dt\n",
        "import urllib.request, json\n",
        "import os\n",
        "import numpy as np\n",
        "import tensorflow as tf # This code has been tested with TensorFlow 1.6\n",
        "\n",
        "\n",
        "import tensorflow as tf\n",
        "from tensorflow import keras\n",
        "from keras.models import Model\n",
        "from keras.layers import Dense, Dropout, LSTM, Input, Activation, concatenate\n",
        "from keras import optimizers\n",
        "import numpy as np\n",
        "from sklearn.preprocessing import MinMaxScaler\n",
        "import yfinance as yf\n",
        "from stockstats import StockDataFrame"
      ]
    },
    {
      "cell_type": "markdown",
      "metadata": {
        "id": "UCbIAD3euf6N"
      },
      "source": [
        "Using the yfinance library, download the stock of choice:\n",
        "Top 5 Tech Stocks\n",
        "- AAPL\n",
        "- MSFT\n",
        "- GOOG\n",
        "- AMZN\n",
        "- TSLA\n"
      ]
    },
    {
      "cell_type": "code",
      "execution_count": 3,
      "metadata": {
        "colab": {
          "base_uri": "https://localhost:8080/"
        },
        "id": "8Rn15Kb4oxnS",
        "outputId": "ab0b9571-50ee-4ab1-e158-88edd2f59f03"
      },
      "outputs": [
        {
          "output_type": "stream",
          "name": "stdout",
          "text": [
            "[*********************100%***********************]  5 of 5 completed\n"
          ]
        },
        {
          "output_type": "execute_result",
          "data": {
            "text/plain": [
              "(                  AMZN                                               \\\n",
              "                   Open        High         Low       Close   Volume   \n",
              " Date                                                                  \n",
              " 2017-05-15  958.729980  963.150024  956.059998  957.969971  4270600   \n",
              " 2017-05-16  961.000000  970.059998  960.909973  966.070007  3126100   \n",
              " 2017-05-17  954.700012  960.400024  944.119995  944.760010  5145600   \n",
              " 2017-05-18  944.799988  962.750000  944.760010  958.489990  3939300   \n",
              " 2017-05-19  962.840027  968.919983  959.719971  959.840027  3972100   \n",
              " \n",
              "                  AAPL                                              ...  \\\n",
              "                  Open       High        Low      Close     Volume  ...   \n",
              " Date                                                               ...   \n",
              " 2017-05-15  36.922346  37.073812  36.695148  36.848980  104038800  ...   \n",
              " 2017-05-16  36.905778  36.934177  36.617044  36.794544   80194000  ...   \n",
              " 2017-05-17  36.351977  36.581544  35.431345  35.559143  203070800  ...   \n",
              " 2017-05-18  35.800541  36.290439  35.767408  36.101105  134272800  ...   \n",
              " 2017-05-19  36.299906  36.441903  36.122406  36.224171  107843200  ...   \n",
              " \n",
              "                  TSLA                                                   GOOG  \\\n",
              "                  Open       High        Low      Close    Volume        Open   \n",
              " Date                                                                           \n",
              " 2017-05-15  63.675999  64.040001  62.506001  63.175999  38110000  932.950012   \n",
              " 2017-05-16  63.518002  64.012001  63.028000  63.402000  20762500  940.000000   \n",
              " 2017-05-17  62.877998  62.925999  61.099998  61.222000  33559500  935.669983   \n",
              " 2017-05-18  61.400002  62.787998  61.062000  62.612000  28269000  921.000000   \n",
              " 2017-05-19  63.099998  63.299999  62.040001  62.166000  23438000  931.469971   \n",
              " \n",
              "                                                          \n",
              "                   High         Low       Close   Volume  \n",
              " Date                                                     \n",
              " 2017-05-15  938.250000  929.340027  937.080017  1108100  \n",
              " 2017-05-16  943.109985  937.580017  943.000000   969500  \n",
              " 2017-05-17  939.333008  918.140015  919.619995  2362100  \n",
              " 2017-05-18  933.169983  918.750000  930.239990  1596900  \n",
              " 2017-05-19  937.755005  931.000000  934.010010  1393000  \n",
              " \n",
              " [5 rows x 25 columns], (1260, 25))"
            ]
          },
          "metadata": {},
          "execution_count": 3
        }
      ],
      "source": [
        "df = yf.download(\n",
        "        tickers = \"AAPL MSFT GOOG AMZN TSLA\",\n",
        "        period = \"5y\",\n",
        "        interval = \"1d\",\n",
        "        group_by = 'ticker',\n",
        "        auto_adjust = True,\n",
        "        prepost = True,\n",
        "        threads = True,\n",
        "        proxy = None\n",
        "    )\n",
        "df = df.dropna()\n",
        "df.head(), df.shape"
      ]
    },
    {
      "cell_type": "markdown",
      "source": [
        "Using stockstats import, download the following technical indicators:\n",
        "- RSI\n",
        "- Stochastic RSI\n",
        "- Triple Exponential Moving Average\n",
        "- MACD\n",
        "- VWMA\n",
        "\n",
        "https://github.com/jealous/stockstats"
      ],
      "metadata": {
        "id": "d6qXzlc7iV74"
      }
    },
    {
      "cell_type": "code",
      "source": [
        "df1 = StockDataFrame.retype(df['TSLA'][[\"Open\", \"Close\", \"High\", \"Low\", \"Volume\"]])\n",
        "df1.head()"
      ],
      "metadata": {
        "colab": {
          "base_uri": "https://localhost:8080/",
          "height": 238
        },
        "id": "0dLTwCfm0hqk",
        "outputId": "fcd8e861-b30f-4595-c515-ff9ba96f46e9"
      },
      "execution_count": 4,
      "outputs": [
        {
          "output_type": "execute_result",
          "data": {
            "text/plain": [
              "                 open      close       high        low    volume\n",
              "Date                                                            \n",
              "2017-05-15  63.675999  63.175999  64.040001  62.506001  38110000\n",
              "2017-05-16  63.518002  63.402000  64.012001  63.028000  20762500\n",
              "2017-05-17  62.877998  61.222000  62.925999  61.099998  33559500\n",
              "2017-05-18  61.400002  62.612000  62.787998  61.062000  28269000\n",
              "2017-05-19  63.099998  62.166000  63.299999  62.040001  23438000"
            ],
            "text/html": [
              "\n",
              "  <div id=\"df-e0dad870-002f-46a0-9dc0-ac09664cb3b6\">\n",
              "    <div class=\"colab-df-container\">\n",
              "      <div>\n",
              "<style scoped>\n",
              "    .dataframe tbody tr th:only-of-type {\n",
              "        vertical-align: middle;\n",
              "    }\n",
              "\n",
              "    .dataframe tbody tr th {\n",
              "        vertical-align: top;\n",
              "    }\n",
              "\n",
              "    .dataframe thead th {\n",
              "        text-align: right;\n",
              "    }\n",
              "</style>\n",
              "<table border=\"1\" class=\"dataframe\">\n",
              "  <thead>\n",
              "    <tr style=\"text-align: right;\">\n",
              "      <th></th>\n",
              "      <th>open</th>\n",
              "      <th>close</th>\n",
              "      <th>high</th>\n",
              "      <th>low</th>\n",
              "      <th>volume</th>\n",
              "    </tr>\n",
              "    <tr>\n",
              "      <th>Date</th>\n",
              "      <th></th>\n",
              "      <th></th>\n",
              "      <th></th>\n",
              "      <th></th>\n",
              "      <th></th>\n",
              "    </tr>\n",
              "  </thead>\n",
              "  <tbody>\n",
              "    <tr>\n",
              "      <th>2017-05-15</th>\n",
              "      <td>63.675999</td>\n",
              "      <td>63.175999</td>\n",
              "      <td>64.040001</td>\n",
              "      <td>62.506001</td>\n",
              "      <td>38110000</td>\n",
              "    </tr>\n",
              "    <tr>\n",
              "      <th>2017-05-16</th>\n",
              "      <td>63.518002</td>\n",
              "      <td>63.402000</td>\n",
              "      <td>64.012001</td>\n",
              "      <td>63.028000</td>\n",
              "      <td>20762500</td>\n",
              "    </tr>\n",
              "    <tr>\n",
              "      <th>2017-05-17</th>\n",
              "      <td>62.877998</td>\n",
              "      <td>61.222000</td>\n",
              "      <td>62.925999</td>\n",
              "      <td>61.099998</td>\n",
              "      <td>33559500</td>\n",
              "    </tr>\n",
              "    <tr>\n",
              "      <th>2017-05-18</th>\n",
              "      <td>61.400002</td>\n",
              "      <td>62.612000</td>\n",
              "      <td>62.787998</td>\n",
              "      <td>61.062000</td>\n",
              "      <td>28269000</td>\n",
              "    </tr>\n",
              "    <tr>\n",
              "      <th>2017-05-19</th>\n",
              "      <td>63.099998</td>\n",
              "      <td>62.166000</td>\n",
              "      <td>63.299999</td>\n",
              "      <td>62.040001</td>\n",
              "      <td>23438000</td>\n",
              "    </tr>\n",
              "  </tbody>\n",
              "</table>\n",
              "</div>\n",
              "      <button class=\"colab-df-convert\" onclick=\"convertToInteractive('df-e0dad870-002f-46a0-9dc0-ac09664cb3b6')\"\n",
              "              title=\"Convert this dataframe to an interactive table.\"\n",
              "              style=\"display:none;\">\n",
              "        \n",
              "  <svg xmlns=\"http://www.w3.org/2000/svg\" height=\"24px\"viewBox=\"0 0 24 24\"\n",
              "       width=\"24px\">\n",
              "    <path d=\"M0 0h24v24H0V0z\" fill=\"none\"/>\n",
              "    <path d=\"M18.56 5.44l.94 2.06.94-2.06 2.06-.94-2.06-.94-.94-2.06-.94 2.06-2.06.94zm-11 1L8.5 8.5l.94-2.06 2.06-.94-2.06-.94L8.5 2.5l-.94 2.06-2.06.94zm10 10l.94 2.06.94-2.06 2.06-.94-2.06-.94-.94-2.06-.94 2.06-2.06.94z\"/><path d=\"M17.41 7.96l-1.37-1.37c-.4-.4-.92-.59-1.43-.59-.52 0-1.04.2-1.43.59L10.3 9.45l-7.72 7.72c-.78.78-.78 2.05 0 2.83L4 21.41c.39.39.9.59 1.41.59.51 0 1.02-.2 1.41-.59l7.78-7.78 2.81-2.81c.8-.78.8-2.07 0-2.86zM5.41 20L4 18.59l7.72-7.72 1.47 1.35L5.41 20z\"/>\n",
              "  </svg>\n",
              "      </button>\n",
              "      \n",
              "  <style>\n",
              "    .colab-df-container {\n",
              "      display:flex;\n",
              "      flex-wrap:wrap;\n",
              "      gap: 12px;\n",
              "    }\n",
              "\n",
              "    .colab-df-convert {\n",
              "      background-color: #E8F0FE;\n",
              "      border: none;\n",
              "      border-radius: 50%;\n",
              "      cursor: pointer;\n",
              "      display: none;\n",
              "      fill: #1967D2;\n",
              "      height: 32px;\n",
              "      padding: 0 0 0 0;\n",
              "      width: 32px;\n",
              "    }\n",
              "\n",
              "    .colab-df-convert:hover {\n",
              "      background-color: #E2EBFA;\n",
              "      box-shadow: 0px 1px 2px rgba(60, 64, 67, 0.3), 0px 1px 3px 1px rgba(60, 64, 67, 0.15);\n",
              "      fill: #174EA6;\n",
              "    }\n",
              "\n",
              "    [theme=dark] .colab-df-convert {\n",
              "      background-color: #3B4455;\n",
              "      fill: #D2E3FC;\n",
              "    }\n",
              "\n",
              "    [theme=dark] .colab-df-convert:hover {\n",
              "      background-color: #434B5C;\n",
              "      box-shadow: 0px 1px 3px 1px rgba(0, 0, 0, 0.15);\n",
              "      filter: drop-shadow(0px 1px 2px rgba(0, 0, 0, 0.3));\n",
              "      fill: #FFFFFF;\n",
              "    }\n",
              "  </style>\n",
              "\n",
              "      <script>\n",
              "        const buttonEl =\n",
              "          document.querySelector('#df-e0dad870-002f-46a0-9dc0-ac09664cb3b6 button.colab-df-convert');\n",
              "        buttonEl.style.display =\n",
              "          google.colab.kernel.accessAllowed ? 'block' : 'none';\n",
              "\n",
              "        async function convertToInteractive(key) {\n",
              "          const element = document.querySelector('#df-e0dad870-002f-46a0-9dc0-ac09664cb3b6');\n",
              "          const dataTable =\n",
              "            await google.colab.kernel.invokeFunction('convertToInteractive',\n",
              "                                                     [key], {});\n",
              "          if (!dataTable) return;\n",
              "\n",
              "          const docLinkHtml = 'Like what you see? Visit the ' +\n",
              "            '<a target=\"_blank\" href=https://colab.research.google.com/notebooks/data_table.ipynb>data table notebook</a>'\n",
              "            + ' to learn more about interactive tables.';\n",
              "          element.innerHTML = '';\n",
              "          dataTable['output_type'] = 'display_data';\n",
              "          await google.colab.output.renderOutput(dataTable, element);\n",
              "          const docLink = document.createElement('div');\n",
              "          docLink.innerHTML = docLinkHtml;\n",
              "          element.appendChild(docLink);\n",
              "        }\n",
              "      </script>\n",
              "    </div>\n",
              "  </div>\n",
              "  "
            ]
          },
          "metadata": {},
          "execution_count": 4
        }
      ]
    },
    {
      "cell_type": "code",
      "execution_count": 5,
      "metadata": {
        "colab": {
          "base_uri": "https://localhost:8080/"
        },
        "id": "BS8ywGIPBUIh",
        "outputId": "f11ef9b9-86a6-4651-d1e0-3e6cbcb60078"
      },
      "outputs": [
        {
          "output_type": "execute_result",
          "data": {
            "text/plain": [
              "(                 open      close       high        low    volume     rs_14  \\\n",
              " Date                                                                         \n",
              " 2017-05-15  63.675999  63.175999  64.040001  62.506001  38110000       NaN   \n",
              " 2017-05-16  63.518002  63.402000  64.012001  63.028000  20762500       inf   \n",
              " 2017-05-17  62.877998  61.222000  62.925999  61.099998  33559500  0.096265   \n",
              " 2017-05-18  61.400002  62.612000  62.787998  61.062000  28269000  0.782927   \n",
              " 2017-05-19  63.099998  62.166000  63.299999  62.040001  23438000  0.632785   \n",
              " \n",
              "                    rsi      rsi_14   stochrsi       tema      macd     macds  \\\n",
              " Date                                                                           \n",
              " 2017-05-15         NaN         NaN        NaN  63.175999  0.000000  0.000000   \n",
              " 2017-05-16  100.000000  100.000000        NaN  63.387536  0.005071  0.002817   \n",
              " 2017-05-17    8.781219    8.781219   0.000000  61.553095 -0.061141 -0.023395   \n",
              " 2017-05-18   43.912455   43.912455  38.513161  62.224199 -0.039571 -0.028875   \n",
              " 2017-05-19   38.754942   38.754942  32.859157  62.147647 -0.044765 -0.033602   \n",
              " \n",
              "                macdh       vwma  \n",
              " Date                             \n",
              " 2017-05-15  0.000000  63.240667  \n",
              " 2017-05-16  0.002254  63.325307  \n",
              " 2017-05-17 -0.037746  62.753115  \n",
              " 2017-05-18 -0.010696  62.612798  \n",
              " 2017-05-19 -0.011163  62.594781  , (1260, 14))"
            ]
          },
          "metadata": {},
          "execution_count": 5
        }
      ],
      "source": [
        "df1['rsi']\n",
        "df1['stochrsi']\n",
        "df1['tema']\n",
        "df1['macd']\n",
        "df1['vwma']\n",
        "df1.head(), df1.shape"
      ]
    },
    {
      "cell_type": "code",
      "source": [
        "df1['AAPL'] = df['AAPL']['Close']\n",
        "df1['MSFT'] = df['MSFT']['Close']\n",
        "df1['GOOG'] = df['GOOG']['Close']\n",
        "df1['AMZN'] = df['AMZN']['Close']\n",
        "df1 = df1.dropna()\n",
        "df1.head()"
      ],
      "metadata": {
        "colab": {
          "base_uri": "https://localhost:8080/",
          "height": 302
        },
        "id": "uA-FPumj1NQd",
        "outputId": "a5c4628d-fd61-490d-84e0-3746232a5137"
      },
      "execution_count": 6,
      "outputs": [
        {
          "output_type": "execute_result",
          "data": {
            "text/plain": [
              "                 open      close       high        low    volume     rs_14  \\\n",
              "Date                                                                         \n",
              "2017-05-17  62.877998  61.222000  62.925999  61.099998  33559500  0.096265   \n",
              "2017-05-18  61.400002  62.612000  62.787998  61.062000  28269000  0.782927   \n",
              "2017-05-19  63.099998  62.166000  63.299999  62.040001  23438000  0.632785   \n",
              "2017-05-22  62.560001  62.070000  62.874001  61.360001  21646000  0.605853   \n",
              "2017-05-23  62.091999  60.771999  62.146000  60.695999  21592000  0.374045   \n",
              "\n",
              "                  rsi     rsi_14   stochrsi       tema      macd     macds  \\\n",
              "Date                                                                         \n",
              "2017-05-17   8.781219   8.781219   0.000000  61.553095 -0.061141 -0.023395   \n",
              "2017-05-18  43.912455  43.912455  38.513161  62.224199 -0.039571 -0.028875   \n",
              "2017-05-19  38.754942  38.754942  32.859157  62.147647 -0.044765 -0.033602   \n",
              "2017-05-22  37.727780  37.727780  31.733116  62.064567 -0.051151 -0.038358   \n",
              "2017-05-23  27.222198  27.222198  20.216208  61.097765 -0.113166 -0.057290   \n",
              "\n",
              "               macdh       vwma       AAPL       MSFT        GOOG        AMZN  \n",
              "Date                                                                           \n",
              "2017-05-17 -0.037746  62.753115  35.559143  63.352615  919.619995  944.760010  \n",
              "2017-05-18 -0.010696  62.612798  36.101105  63.568569  930.239990  958.489990  \n",
              "2017-05-19 -0.011163  62.594781  36.224171  63.549767  934.010010  959.840027  \n",
              "2017-05-22 -0.012792  62.530353  36.444271  64.263283  941.859985  970.669983  \n",
              "2017-05-23 -0.055876  62.377591  36.399307  64.479218  948.820007  971.539978  "
            ],
            "text/html": [
              "\n",
              "  <div id=\"df-d1b2d0ca-f1d6-4ea4-8a9e-f34f71bd1450\">\n",
              "    <div class=\"colab-df-container\">\n",
              "      <div>\n",
              "<style scoped>\n",
              "    .dataframe tbody tr th:only-of-type {\n",
              "        vertical-align: middle;\n",
              "    }\n",
              "\n",
              "    .dataframe tbody tr th {\n",
              "        vertical-align: top;\n",
              "    }\n",
              "\n",
              "    .dataframe thead th {\n",
              "        text-align: right;\n",
              "    }\n",
              "</style>\n",
              "<table border=\"1\" class=\"dataframe\">\n",
              "  <thead>\n",
              "    <tr style=\"text-align: right;\">\n",
              "      <th></th>\n",
              "      <th>open</th>\n",
              "      <th>close</th>\n",
              "      <th>high</th>\n",
              "      <th>low</th>\n",
              "      <th>volume</th>\n",
              "      <th>rs_14</th>\n",
              "      <th>rsi</th>\n",
              "      <th>rsi_14</th>\n",
              "      <th>stochrsi</th>\n",
              "      <th>tema</th>\n",
              "      <th>macd</th>\n",
              "      <th>macds</th>\n",
              "      <th>macdh</th>\n",
              "      <th>vwma</th>\n",
              "      <th>AAPL</th>\n",
              "      <th>MSFT</th>\n",
              "      <th>GOOG</th>\n",
              "      <th>AMZN</th>\n",
              "    </tr>\n",
              "    <tr>\n",
              "      <th>Date</th>\n",
              "      <th></th>\n",
              "      <th></th>\n",
              "      <th></th>\n",
              "      <th></th>\n",
              "      <th></th>\n",
              "      <th></th>\n",
              "      <th></th>\n",
              "      <th></th>\n",
              "      <th></th>\n",
              "      <th></th>\n",
              "      <th></th>\n",
              "      <th></th>\n",
              "      <th></th>\n",
              "      <th></th>\n",
              "      <th></th>\n",
              "      <th></th>\n",
              "      <th></th>\n",
              "      <th></th>\n",
              "    </tr>\n",
              "  </thead>\n",
              "  <tbody>\n",
              "    <tr>\n",
              "      <th>2017-05-17</th>\n",
              "      <td>62.877998</td>\n",
              "      <td>61.222000</td>\n",
              "      <td>62.925999</td>\n",
              "      <td>61.099998</td>\n",
              "      <td>33559500</td>\n",
              "      <td>0.096265</td>\n",
              "      <td>8.781219</td>\n",
              "      <td>8.781219</td>\n",
              "      <td>0.000000</td>\n",
              "      <td>61.553095</td>\n",
              "      <td>-0.061141</td>\n",
              "      <td>-0.023395</td>\n",
              "      <td>-0.037746</td>\n",
              "      <td>62.753115</td>\n",
              "      <td>35.559143</td>\n",
              "      <td>63.352615</td>\n",
              "      <td>919.619995</td>\n",
              "      <td>944.760010</td>\n",
              "    </tr>\n",
              "    <tr>\n",
              "      <th>2017-05-18</th>\n",
              "      <td>61.400002</td>\n",
              "      <td>62.612000</td>\n",
              "      <td>62.787998</td>\n",
              "      <td>61.062000</td>\n",
              "      <td>28269000</td>\n",
              "      <td>0.782927</td>\n",
              "      <td>43.912455</td>\n",
              "      <td>43.912455</td>\n",
              "      <td>38.513161</td>\n",
              "      <td>62.224199</td>\n",
              "      <td>-0.039571</td>\n",
              "      <td>-0.028875</td>\n",
              "      <td>-0.010696</td>\n",
              "      <td>62.612798</td>\n",
              "      <td>36.101105</td>\n",
              "      <td>63.568569</td>\n",
              "      <td>930.239990</td>\n",
              "      <td>958.489990</td>\n",
              "    </tr>\n",
              "    <tr>\n",
              "      <th>2017-05-19</th>\n",
              "      <td>63.099998</td>\n",
              "      <td>62.166000</td>\n",
              "      <td>63.299999</td>\n",
              "      <td>62.040001</td>\n",
              "      <td>23438000</td>\n",
              "      <td>0.632785</td>\n",
              "      <td>38.754942</td>\n",
              "      <td>38.754942</td>\n",
              "      <td>32.859157</td>\n",
              "      <td>62.147647</td>\n",
              "      <td>-0.044765</td>\n",
              "      <td>-0.033602</td>\n",
              "      <td>-0.011163</td>\n",
              "      <td>62.594781</td>\n",
              "      <td>36.224171</td>\n",
              "      <td>63.549767</td>\n",
              "      <td>934.010010</td>\n",
              "      <td>959.840027</td>\n",
              "    </tr>\n",
              "    <tr>\n",
              "      <th>2017-05-22</th>\n",
              "      <td>62.560001</td>\n",
              "      <td>62.070000</td>\n",
              "      <td>62.874001</td>\n",
              "      <td>61.360001</td>\n",
              "      <td>21646000</td>\n",
              "      <td>0.605853</td>\n",
              "      <td>37.727780</td>\n",
              "      <td>37.727780</td>\n",
              "      <td>31.733116</td>\n",
              "      <td>62.064567</td>\n",
              "      <td>-0.051151</td>\n",
              "      <td>-0.038358</td>\n",
              "      <td>-0.012792</td>\n",
              "      <td>62.530353</td>\n",
              "      <td>36.444271</td>\n",
              "      <td>64.263283</td>\n",
              "      <td>941.859985</td>\n",
              "      <td>970.669983</td>\n",
              "    </tr>\n",
              "    <tr>\n",
              "      <th>2017-05-23</th>\n",
              "      <td>62.091999</td>\n",
              "      <td>60.771999</td>\n",
              "      <td>62.146000</td>\n",
              "      <td>60.695999</td>\n",
              "      <td>21592000</td>\n",
              "      <td>0.374045</td>\n",
              "      <td>27.222198</td>\n",
              "      <td>27.222198</td>\n",
              "      <td>20.216208</td>\n",
              "      <td>61.097765</td>\n",
              "      <td>-0.113166</td>\n",
              "      <td>-0.057290</td>\n",
              "      <td>-0.055876</td>\n",
              "      <td>62.377591</td>\n",
              "      <td>36.399307</td>\n",
              "      <td>64.479218</td>\n",
              "      <td>948.820007</td>\n",
              "      <td>971.539978</td>\n",
              "    </tr>\n",
              "  </tbody>\n",
              "</table>\n",
              "</div>\n",
              "      <button class=\"colab-df-convert\" onclick=\"convertToInteractive('df-d1b2d0ca-f1d6-4ea4-8a9e-f34f71bd1450')\"\n",
              "              title=\"Convert this dataframe to an interactive table.\"\n",
              "              style=\"display:none;\">\n",
              "        \n",
              "  <svg xmlns=\"http://www.w3.org/2000/svg\" height=\"24px\"viewBox=\"0 0 24 24\"\n",
              "       width=\"24px\">\n",
              "    <path d=\"M0 0h24v24H0V0z\" fill=\"none\"/>\n",
              "    <path d=\"M18.56 5.44l.94 2.06.94-2.06 2.06-.94-2.06-.94-.94-2.06-.94 2.06-2.06.94zm-11 1L8.5 8.5l.94-2.06 2.06-.94-2.06-.94L8.5 2.5l-.94 2.06-2.06.94zm10 10l.94 2.06.94-2.06 2.06-.94-2.06-.94-.94-2.06-.94 2.06-2.06.94z\"/><path d=\"M17.41 7.96l-1.37-1.37c-.4-.4-.92-.59-1.43-.59-.52 0-1.04.2-1.43.59L10.3 9.45l-7.72 7.72c-.78.78-.78 2.05 0 2.83L4 21.41c.39.39.9.59 1.41.59.51 0 1.02-.2 1.41-.59l7.78-7.78 2.81-2.81c.8-.78.8-2.07 0-2.86zM5.41 20L4 18.59l7.72-7.72 1.47 1.35L5.41 20z\"/>\n",
              "  </svg>\n",
              "      </button>\n",
              "      \n",
              "  <style>\n",
              "    .colab-df-container {\n",
              "      display:flex;\n",
              "      flex-wrap:wrap;\n",
              "      gap: 12px;\n",
              "    }\n",
              "\n",
              "    .colab-df-convert {\n",
              "      background-color: #E8F0FE;\n",
              "      border: none;\n",
              "      border-radius: 50%;\n",
              "      cursor: pointer;\n",
              "      display: none;\n",
              "      fill: #1967D2;\n",
              "      height: 32px;\n",
              "      padding: 0 0 0 0;\n",
              "      width: 32px;\n",
              "    }\n",
              "\n",
              "    .colab-df-convert:hover {\n",
              "      background-color: #E2EBFA;\n",
              "      box-shadow: 0px 1px 2px rgba(60, 64, 67, 0.3), 0px 1px 3px 1px rgba(60, 64, 67, 0.15);\n",
              "      fill: #174EA6;\n",
              "    }\n",
              "\n",
              "    [theme=dark] .colab-df-convert {\n",
              "      background-color: #3B4455;\n",
              "      fill: #D2E3FC;\n",
              "    }\n",
              "\n",
              "    [theme=dark] .colab-df-convert:hover {\n",
              "      background-color: #434B5C;\n",
              "      box-shadow: 0px 1px 3px 1px rgba(0, 0, 0, 0.15);\n",
              "      filter: drop-shadow(0px 1px 2px rgba(0, 0, 0, 0.3));\n",
              "      fill: #FFFFFF;\n",
              "    }\n",
              "  </style>\n",
              "\n",
              "      <script>\n",
              "        const buttonEl =\n",
              "          document.querySelector('#df-d1b2d0ca-f1d6-4ea4-8a9e-f34f71bd1450 button.colab-df-convert');\n",
              "        buttonEl.style.display =\n",
              "          google.colab.kernel.accessAllowed ? 'block' : 'none';\n",
              "\n",
              "        async function convertToInteractive(key) {\n",
              "          const element = document.querySelector('#df-d1b2d0ca-f1d6-4ea4-8a9e-f34f71bd1450');\n",
              "          const dataTable =\n",
              "            await google.colab.kernel.invokeFunction('convertToInteractive',\n",
              "                                                     [key], {});\n",
              "          if (!dataTable) return;\n",
              "\n",
              "          const docLinkHtml = 'Like what you see? Visit the ' +\n",
              "            '<a target=\"_blank\" href=https://colab.research.google.com/notebooks/data_table.ipynb>data table notebook</a>'\n",
              "            + ' to learn more about interactive tables.';\n",
              "          element.innerHTML = '';\n",
              "          dataTable['output_type'] = 'display_data';\n",
              "          await google.colab.output.renderOutput(dataTable, element);\n",
              "          const docLink = document.createElement('div');\n",
              "          docLink.innerHTML = docLinkHtml;\n",
              "          element.appendChild(docLink);\n",
              "        }\n",
              "      </script>\n",
              "    </div>\n",
              "  </div>\n",
              "  "
            ]
          },
          "metadata": {},
          "execution_count": 6
        }
      ]
    },
    {
      "cell_type": "code",
      "execution_count": 7,
      "metadata": {
        "colab": {
          "base_uri": "https://localhost:8080/",
          "height": 283
        },
        "id": "cgxZiy-J2oss",
        "outputId": "4f127964-e811-4251-b60d-f27cb76cd484"
      },
      "outputs": [
        {
          "output_type": "execute_result",
          "data": {
            "text/plain": [
              "[<matplotlib.lines.Line2D at 0x7fcaa48f3090>]"
            ]
          },
          "metadata": {},
          "execution_count": 7
        },
        {
          "output_type": "display_data",
          "data": {
            "text/plain": [
              "<Figure size 432x288 with 1 Axes>"
            ],
            "image/png": "[encoded data removed]"
          },
          "metadata": {
            "needs_background": "light"
          }
        }
      ],
      "source": [
        "plt.plot(df1['close'])"
      ]
    },
    {
      "cell_type": "code",
      "execution_count": 8,
      "metadata": {
        "id": "BEhzW5p1vO6c"
      },
      "outputs": [],
      "source": [
        "scaler = MinMaxScaler(feature_range=(0,1))\n",
        "dftsla = scaler.fit_transform(np.array(df1['close']).reshape(-1,1))\n",
        "\n",
        "dfaapl = scaler.fit_transform(np.array(df1['AAPL']).reshape(-1,1))\n",
        "dfmsft = scaler.fit_transform(np.array(df1['MSFT']).reshape(-1,1))\n",
        "dfgoog = scaler.fit_transform(np.array(df1['GOOG']).reshape(-1,1))\n",
        "dfamzn = scaler.fit_transform(np.array(df1['AMZN']).reshape(-1,1))\n",
        "\n",
        "rsi = scaler.fit_transform(np.array(df1['rsi']).reshape(-1,1))\n",
        "stochrsi = scaler.fit_transform(np.array(df1['stochrsi']).reshape(-1,1))\n",
        "tema = scaler.fit_transform(np.array(df1['tema']).reshape(-1,1))\n",
        "macd = scaler.fit_transform(np.array(df1['macd']).reshape(-1,1))\n",
        "vwma = scaler.fit_transform(np.array(df1['vwma']).reshape(-1,1))"
      ]
    },
    {
      "cell_type": "markdown",
      "metadata": {
        "id": "t5D5RjI2t5XC"
      },
      "source": [
        "Declare the size of the training set to be approximatley 80% of the entire data set under evaluation:"
      ]
    },
    {
      "cell_type": "code",
      "execution_count": 9,
      "metadata": {
        "id": "Chx7TpeCtjKm"
      },
      "outputs": [],
      "source": [
        "training_size = round(len(dftsla)*0.8)\n",
        "test_size = len(dftsla) - training_size\n",
        "train_data, test_data = dftsla[:training_size,:],dftsla[training_size:,:1]\n",
        "\n",
        "train_aapl, test_aapl = dfaapl[:training_size,:],dfaapl[training_size:,:1]\n",
        "train_msft, test_msft = dfmsft[:training_size,:],dfmsft[training_size:,:1]\n",
        "train_goog, test_goog = dfgoog[:training_size,:],dfgoog[training_size:,:1]\n",
        "train_amzn, test_amzn = dfamzn[:training_size,:],dfamzn[training_size:,:1]\n",
        "\n",
        "train_rsi, test_rsi = rsi[:training_size,:],rsi[training_size:,:1]\n",
        "train_stochrsi, test_stochrsi = stochrsi[:training_size,:],stochrsi[training_size:,:1]\n",
        "train_tema, test_tema = tema[:training_size,:],tema[training_size:,:1]\n",
        "train_macd, test_macd = macd[:training_size,:],macd[training_size:,:1]\n",
        "train_vwma, test_cwma = vwma[:training_size,:],vwma[training_size:,:1]"
      ]
    },
    {
      "cell_type": "code",
      "execution_count": 10,
      "metadata": {
        "colab": {
          "base_uri": "https://localhost:8080/"
        },
        "id": "wkpLDZcX3unn",
        "outputId": "d46b70c7-92d4-42e8-dcfc-9babbd619361"
      },
      "outputs": [
        {
          "output_type": "execute_result",
          "data": {
            "text/plain": [
              "(1006, 252)"
            ]
          },
          "metadata": {},
          "execution_count": 10
        }
      ],
      "source": [
        "training_size,test_size"
      ]
    },
    {
      "cell_type": "code",
      "execution_count": 11,
      "metadata": {
        "colab": {
          "base_uri": "https://localhost:8080/"
        },
        "id": "9O4tuYK03o7K",
        "outputId": "8fd9b774-2d0c-42e4-ade5-1fab82f4a43b"
      },
      "outputs": [
        {
          "output_type": "execute_result",
          "data": {
            "text/plain": [
              "(1006, 252)"
            ]
          },
          "metadata": {},
          "execution_count": 11
        }
      ],
      "source": [
        "len(train_data),len(test_data)"
      ]
    },
    {
      "cell_type": "markdown",
      "source": [
        "Create X and Y datasets for LSTM:\n",
        "- X is previous time_step prices\n",
        "- Y is next price"
      ],
      "metadata": {
        "id": "S1hhxlh9-9qj"
      }
    },
    {
      "cell_type": "code",
      "execution_count": 12,
      "metadata": {
        "id": "yXzWqLAn33jM"
      },
      "outputs": [],
      "source": [
        "def create_dataset(dataset, time_step = 1):\n",
        "  dataX, dataY = [],[]\n",
        "  for i in range(len(dataset)-time_step-1):\n",
        "    a = dataset[i:(i+time_step),0]\n",
        "    dataX.append(a)\n",
        "    dataY.append(dataset[i+time_step,0])\n",
        "  return np.array(dataX), np.array(dataY)"
      ]
    },
    {
      "cell_type": "markdown",
      "source": [
        "Create X and Y datasets for technical indicators:\n",
        "- X is technical indicator values for given price\n",
        "- Y is given price"
      ],
      "metadata": {
        "id": "h39X1JHv_M_7"
      }
    },
    {
      "cell_type": "code",
      "execution_count": 13,
      "metadata": {
        "id": "z01Q6e7wH6Pm"
      },
      "outputs": [],
      "source": [
        "def technical_dataset(dataset, type, time_step = 1):\n",
        "  dataX,dataY = [], []\n",
        "  for i in range(len(dataset)-time_step-1):\n",
        "    a = []\n",
        "    if type == \"test\":\n",
        "      a.extend([test_rsi[i+time_step,0],test_stochrsi[i+time_step,0],test_tema[i+time_step,0],test_macd[i+time_step,0],test_vwma[i+time_step,0]])\n",
        "    elif type ==\"train\":  \n",
        "      a.extend([train_rsi[i+time_step,0],train_stochrsi[i+time_step,0],train_tema[i+time_step,0],train_macd[i+time_step,0],train_vwma[i+time_step,0]])\n",
        "    dataX.append(a) \n",
        "    dataY.append(dataset[i+time_step,0])\n",
        "  return np.array(dataX), np.array(dataY)"
      ]
    },
    {
      "cell_type": "markdown",
      "source": [
        "Run functions for each stock and indicator:"
      ],
      "metadata": {
        "id": "1QdqOMub_XMr"
      }
    },
    {
      "cell_type": "code",
      "execution_count": 14,
      "metadata": {
        "id": "QGFlu8XK5r00"
      },
      "outputs": [],
      "source": [
        "time_step = 100\n",
        "X_train, y_train = create_dataset(train_data,time_step)\n",
        "X_test,y_test = create_dataset(test_data,time_step)\n",
        "\n",
        "X_aapl_train, y_aapl_train = create_dataset(train_aapl,time_step)\n",
        "X_msft_train, y_msft_train = create_dataset(train_msft,time_step)\n",
        "X_goog_train, y_goog_train = create_dataset(train_goog,time_step)\n",
        "X_amzn_train, y_goog_train = create_dataset(train_amzn,time_step)\n",
        "\n",
        "X_aapl_test, y_aapl_test = create_dataset(test_aapl,time_step)\n",
        "X_msft_test, y_msft_test = create_dataset(test_msft,time_step)\n",
        "X_goog_test, y_goog_test = create_dataset(test_goog,time_step)\n",
        "X_amzn_test, y_goog_test = create_dataset(test_amzn,time_step)\n",
        "\n",
        "X_tech_train, y_tech_train = technical_dataset(train_data,\"train\",time_step)\n",
        "X_tech_test, y_tech_test = technical_dataset(test_data,\"train\",time_step)"
      ]
    },
    {
      "cell_type": "code",
      "execution_count": 15,
      "metadata": {
        "colab": {
          "base_uri": "https://localhost:8080/"
        },
        "id": "hU6fsxy7J3e3",
        "outputId": "a8d0f357-2bc7-452a-ec49-d471a71ea376"
      },
      "outputs": [
        {
          "output_type": "execute_result",
          "data": {
            "text/plain": [
              "((905, 100), (905, 100), (151, 100), (905,))"
            ]
          },
          "metadata": {},
          "execution_count": 15
        }
      ],
      "source": [
        "X_train.shape, X_aapl_train.shape, X_aapl_test.shape,y_train.shape"
      ]
    },
    {
      "cell_type": "markdown",
      "source": [
        "Reshape:"
      ],
      "metadata": {
        "id": "MfyE3fte_fUz"
      }
    },
    {
      "cell_type": "code",
      "execution_count": 16,
      "metadata": {
        "id": "nSHhoF737vb6",
        "colab": {
          "base_uri": "https://localhost:8080/"
        },
        "outputId": "22f7ca2c-2c4a-46c1-9260-a8345710d66c"
      },
      "outputs": [
        {
          "output_type": "execute_result",
          "data": {
            "text/plain": [
              "((905, 100), (905, 100), (905, 5), (151, 100), (151, 100))"
            ]
          },
          "metadata": {},
          "execution_count": 16
        }
      ],
      "source": [
        "X_train.reshape(X_train.shape[0],X_train.shape[1],1)\n",
        "X_aapl_train.reshape(X_aapl_train.shape[0],X_aapl_train.shape[1],1)\n",
        "X_msft_train.reshape(X_msft_train.shape[0],X_msft_train.shape[1],1)\n",
        "X_goog_train.reshape(X_goog_train.shape[0],X_goog_train.shape[1],1)\n",
        "X_amzn_train.reshape(X_amzn_train.shape[0],X_amzn_train.shape[1],1)\n",
        "X_tech_train.reshape(X_tech_train.shape[0],X_tech_train.shape[1],1)\n",
        "\n",
        "X_test.reshape(X_test.shape[0],X_test.shape[1],1)\n",
        "X_aapl_test.reshape(X_aapl_test.shape[0],X_aapl_test.shape[1],1)\n",
        "X_msft_test.reshape(X_msft_test.shape[0],X_msft_test.shape[1],1)\n",
        "X_goog_test.reshape(X_goog_test.shape[0],X_goog_test.shape[1],1)\n",
        "X_amzn_test.reshape(X_amzn_test.shape[0],X_amzn_test.shape[1],1)\n",
        "X_tech_test.reshape(X_tech_test.shape[0],X_tech_test.shape[1],1)\n",
        "\n",
        "X_train.shape,X_aapl_train.shape,X_tech_train.shape,X_test.shape,X_aapl_test.shape"
      ]
    },
    {
      "cell_type": "code",
      "source": [
        "X_test.shape[0]"
      ],
      "metadata": {
        "colab": {
          "base_uri": "https://localhost:8080/"
        },
        "id": "uomTsBAxLJ2a",
        "outputId": "30cd459d-2ce2-4a3f-b044-df669e24e310"
      },
      "execution_count": 17,
      "outputs": [
        {
          "output_type": "execute_result",
          "data": {
            "text/plain": [
              "151"
            ]
          },
          "metadata": {},
          "execution_count": 17
        }
      ]
    },
    {
      "cell_type": "markdown",
      "source": [
        "Structure Model:\n",
        "- 5 LSTM Input Layers: TSLA, AAPL, MSFT, GOOG, & AMZN\n",
        "- 1 Dense Input Layer: RSI, STOCH RSI, TEMA, MACD, VWMA"
      ],
      "metadata": {
        "id": "innOBNh1_iOL"
      }
    },
    {
      "cell_type": "code",
      "source": [
        "# define two sets of inputs\n",
        "lstm_input = Input(shape=(X_train.shape[1],1), name='lstm_input')\n",
        "lstm_aapl_input = Input(shape=(X_train.shape[1],1), name='lstm_aapl_input')\n",
        "lstm_msft_input = Input(shape=(X_train.shape[1],1), name='lstm_msft_input')\n",
        "lstm_goog_input = Input(shape=(X_train.shape[1],1), name='lstm_goog_input')\n",
        "lstm_amzn_input = Input(shape=(X_train.shape[1],1), name='lstm_amzn_input')\n",
        "\n",
        "dense_input = Input(shape=(X_tech_train.shape[1],), name='tech_input')\n",
        "\n",
        "x = LSTM(50, name='lstm_0')(lstm_input)\n",
        "x = Dropout(0.2, name='lstm_dropout_0')(x)\n",
        "lstm_branch0 = Model(inputs=lstm_input, outputs=x)\n",
        " \n",
        "# the second branch opreates on the second input\n",
        "y = Dense(20, name='tech_dense_0')(dense_input)\n",
        "y = Activation(\"relu\", name='tech_relu_0')(y)\n",
        "y = Dropout(0.2, name='tech_dropout_0')(y)\n",
        "technical_indicators_branch = Model(inputs=dense_input, outputs=y)\n",
        "\n",
        "# a, b, c, d\n",
        "a = LSTM(50, name='lstm_1')(lstm_aapl_input)\n",
        "a = Dropout(0.2, name='lstm_dropout_1')(a)\n",
        "lstm_branch1 = Model(inputs=lstm_aapl_input, outputs=a)\n",
        "\n",
        "b = LSTM(50, name='lstm_2')(lstm_msft_input)\n",
        "b = Dropout(0.2, name='lstm_dropout_2')(b)\n",
        "lstm_branch2 = Model(inputs=lstm_msft_input, outputs=b)\n",
        "\n",
        "c = LSTM(50, name='lstm_3')(lstm_goog_input)\n",
        "c = Dropout(0.2, name='lstm_dropout_3')(c)\n",
        "lstm_branch3 = Model(inputs=lstm_goog_input, outputs=c)\n",
        "\n",
        "d = LSTM(50, name='lstm_4')(lstm_amzn_input)\n",
        "d = Dropout(0.2, name='lstm_dropout_4')(d)\n",
        "lstm_branch4 = Model(inputs=lstm_amzn_input, outputs=d)"
      ],
      "metadata": {
        "id": "MQENIedlNLPK"
      },
      "execution_count": 18,
      "outputs": []
    },
    {
      "cell_type": "markdown",
      "source": [
        "Concatenate Step:"
      ],
      "metadata": {
        "id": "irKrXVM6_6Xr"
      }
    },
    {
      "cell_type": "code",
      "source": [
        "combined = concatenate([lstm_branch0.output, lstm_branch1.output, lstm_branch2.output,lstm_branch3.output, lstm_branch4.output, technical_indicators_branch.output], name='concatenate')\n",
        " \n",
        "z = Dense(64, activation=\"sigmoid\", name='dense_pooling')(combined)\n",
        "z = Dense(1, activation=\"linear\", name='dense_out')(z)\n",
        "model = Model(inputs=[lstm_branch0.input, lstm_branch1.input, lstm_branch2.input, lstm_branch3.input, lstm_branch4.input, technical_indicators_branch.input], outputs=z)\n",
        "\n",
        "adam = tf.optimizers.Adam(lr=0.0005)\n",
        "\n",
        "model.compile(optimizer=adam,\n",
        "              loss='mse')"
      ],
      "metadata": {
        "colab": {
          "base_uri": "https://localhost:8080/"
        },
        "id": "YPKioZlXQ_p1",
        "outputId": "6f9f8af8-3e33-4f5e-ca32-e13562b2ec92"
      },
      "execution_count": 19,
      "outputs": [
        {
          "output_type": "stream",
          "name": "stderr",
          "text": [
            "/usr/local/lib/python3.7/dist-packages/keras/optimizer_v2/adam.py:105: UserWarning: The `lr` argument is deprecated, use `learning_rate` instead.\n",
            "  super(Adam, self).__init__(name, **kwargs)\n"
          ]
        }
      ]
    },
    {
      "cell_type": "markdown",
      "source": [
        "Fit Model:"
      ],
      "metadata": {
        "id": "NP6tEY-C_9Jb"
      }
    },
    {
      "cell_type": "code",
      "source": [
        "model.fit(x=[X_train, X_aapl_train, X_msft_train, X_goog_train, X_amzn_train, X_tech_train], y=y_train, batch_size=70, epochs=10, shuffle=True, validation_split=0.1)"
      ],
      "metadata": {
        "colab": {
          "base_uri": "https://localhost:8080/"
        },
        "id": "TqTDWYPNRB0d",
        "outputId": "1e10840a-d567-4f89-807b-7d404afb9abb"
      },
      "execution_count": 20,
      "outputs": [
        {
          "output_type": "stream",
          "name": "stdout",
          "text": [
            "Epoch 1/10\n",
            "12/12 [==============================] - 31s 713ms/step - loss: 0.2155 - val_loss: 0.2089\n",
            "Epoch 2/10\n",
            "12/12 [==============================] - 3s 256ms/step - loss: 0.0170 - val_loss: 0.0228\n",
            "Epoch 3/10\n",
            "12/12 [==============================] - 3s 253ms/step - loss: 0.0094 - val_loss: 0.0194\n",
            "Epoch 4/10\n",
            "12/12 [==============================] - 3s 251ms/step - loss: 0.0028 - val_loss: 0.0418\n",
            "Epoch 5/10\n",
            "12/12 [==============================] - 3s 255ms/step - loss: 0.0023 - val_loss: 0.0241\n",
            "Epoch 6/10\n",
            "12/12 [==============================] - 3s 258ms/step - loss: 0.0020 - val_loss: 0.0197\n",
            "Epoch 7/10\n",
            "12/12 [==============================] - 3s 252ms/step - loss: 0.0018 - val_loss: 0.0218\n",
            "Epoch 8/10\n",
            "12/12 [==============================] - 3s 258ms/step - loss: 0.0016 - val_loss: 0.0197\n",
            "Epoch 9/10\n",
            "12/12 [==============================] - 3s 248ms/step - loss: 0.0018 - val_loss: 0.0150\n",
            "Epoch 10/10\n",
            "12/12 [==============================] - 3s 248ms/step - loss: 0.0015 - val_loss: 0.0138\n"
          ]
        },
        {
          "output_type": "execute_result",
          "data": {
            "text/plain": [
              "<keras.callbacks.History at 0x7fcaa2584d90>"
            ]
          },
          "metadata": {},
          "execution_count": 20
        }
      ]
    },
    {
      "cell_type": "markdown",
      "source": [
        "Evaluate Model:"
      ],
      "metadata": {
        "id": "ZlGfZ31M__K7"
      }
    },
    {
      "cell_type": "code",
      "source": [
        "evaluation = model.evaluate([X_test, X_aapl_test, X_msft_test, X_goog_test, X_amzn_test, X_tech_test], y_test)\n",
        "print(evaluation)"
      ],
      "metadata": {
        "colab": {
          "base_uri": "https://localhost:8080/"
        },
        "id": "T0S_-f_Ttmxw",
        "outputId": "7519a028-3c52-4a25-fcf8-9832241e1398"
      },
      "execution_count": 21,
      "outputs": [
        {
          "output_type": "stream",
          "name": "stdout",
          "text": [
            "5/5 [==============================] - 0s 46ms/step - loss: 0.0622\n",
            "0.06222238764166832\n"
          ]
        }
      ]
    },
    {
      "cell_type": "code",
      "execution_count": 22,
      "metadata": {
        "colab": {
          "base_uri": "https://localhost:8080/"
        },
        "id": "J7orUHFL9nWH",
        "outputId": "2be7d2d7-e29f-4c8c-e180-3693e21fbcac"
      },
      "outputs": [
        {
          "output_type": "stream",
          "name": "stdout",
          "text": [
            "Model: \"model_6\"\n",
            "__________________________________________________________________________________________________\n",
            " Layer (type)                   Output Shape         Param #     Connected to                     \n",
            "==================================================================================================\n",
            " tech_input (InputLayer)        [(None, 5)]          0           []                               \n",
            "                                                                                                  \n",
            " lstm_input (InputLayer)        [(None, 100, 1)]     0           []                               \n",
            "                                                                                                  \n",
            " lstm_aapl_input (InputLayer)   [(None, 100, 1)]     0           []                               \n",
            "                                                                                                  \n",
            " lstm_msft_input (InputLayer)   [(None, 100, 1)]     0           []                               \n",
            "                                                                                                  \n",
            " lstm_goog_input (InputLayer)   [(None, 100, 1)]     0           []                               \n",
            "                                                                                                  \n",
            " lstm_amzn_input (InputLayer)   [(None, 100, 1)]     0           []                               \n",
            "                                                                                                  \n",
            " tech_dense_0 (Dense)           (None, 20)           120         ['tech_input[0][0]']             \n",
            "                                                                                                  \n",
            " lstm_0 (LSTM)                  (None, 50)           10400       ['lstm_input[0][0]']             \n",
            "                                                                                                  \n",
            " lstm_1 (LSTM)                  (None, 50)           10400       ['lstm_aapl_input[0][0]']        \n",
            "                                                                                                  \n",
            " lstm_2 (LSTM)                  (None, 50)           10400       ['lstm_msft_input[0][0]']        \n",
            "                                                                                                  \n",
            " lstm_3 (LSTM)                  (None, 50)           10400       ['lstm_goog_input[0][0]']        \n",
            "                                                                                                  \n",
            " lstm_4 (LSTM)                  (None, 50)           10400       ['lstm_amzn_input[0][0]']        \n",
            "                                                                                                  \n",
            " tech_relu_0 (Activation)       (None, 20)           0           ['tech_dense_0[0][0]']           \n",
            "                                                                                                  \n",
            " lstm_dropout_0 (Dropout)       (None, 50)           0           ['lstm_0[0][0]']                 \n",
            "                                                                                                  \n",
            " lstm_dropout_1 (Dropout)       (None, 50)           0           ['lstm_1[0][0]']                 \n",
            "                                                                                                  \n",
            " lstm_dropout_2 (Dropout)       (None, 50)           0           ['lstm_2[0][0]']                 \n",
            "                                                                                                  \n",
            " lstm_dropout_3 (Dropout)       (None, 50)           0           ['lstm_3[0][0]']                 \n",
            "                                                                                                  \n",
            " lstm_dropout_4 (Dropout)       (None, 50)           0           ['lstm_4[0][0]']                 \n",
            "                                                                                                  \n",
            " tech_dropout_0 (Dropout)       (None, 20)           0           ['tech_relu_0[0][0]']            \n",
            "                                                                                                  \n",
            " concatenate (Concatenate)      (None, 270)          0           ['lstm_dropout_0[0][0]',         \n",
            "                                                                  'lstm_dropout_1[0][0]',         \n",
            "                                                                  'lstm_dropout_2[0][0]',         \n",
            "                                                                  'lstm_dropout_3[0][0]',         \n",
            "                                                                  'lstm_dropout_4[0][0]',         \n",
            "                                                                  'tech_dropout_0[0][0]']         \n",
            "                                                                                                  \n",
            " dense_pooling (Dense)          (None, 64)           17344       ['concatenate[0][0]']            \n",
            "                                                                                                  \n",
            " dense_out (Dense)              (None, 1)            65          ['dense_pooling[0][0]']          \n",
            "                                                                                                  \n",
            "==================================================================================================\n",
            "Total params: 69,529\n",
            "Trainable params: 69,529\n",
            "Non-trainable params: 0\n",
            "__________________________________________________________________________________________________\n"
          ]
        }
      ],
      "source": [
        "model.summary()"
      ]
    },
    {
      "cell_type": "markdown",
      "metadata": {
        "id": "mRBlNybRAtv2"
      },
      "source": [
        "22:58"
      ]
    },
    {
      "cell_type": "markdown",
      "source": [
        "Predictions:"
      ],
      "metadata": {
        "id": "relY7y0eAD1L"
      }
    },
    {
      "cell_type": "code",
      "source": [
        "train_predict = model.predict([X_train, X_aapl_train, X_msft_train, X_goog_train, X_amzn_train, X_tech_train])\n",
        "test_predict = model.predict([X_test, X_aapl_test, X_msft_test, X_goog_test, X_amzn_test, X_tech_test])"
      ],
      "metadata": {
        "id": "uGh1tdkkezKu"
      },
      "execution_count": 23,
      "outputs": []
    },
    {
      "cell_type": "code",
      "execution_count": 24,
      "metadata": {
        "id": "KYFVCwAlB_VP"
      },
      "outputs": [],
      "source": [
        "##Transformback to original form\n",
        "train_predict=scaler.inverse_transform(train_predict)\n",
        "test_predict=scaler.inverse_transform(test_predict)"
      ]
    },
    {
      "cell_type": "markdown",
      "source": [
        "Plot Train/Test vs Real:"
      ],
      "metadata": {
        "id": "5Oc48q-CAGXz"
      }
    },
    {
      "cell_type": "code",
      "source": [
        "### Plotting \n",
        "# Time\n",
        "time = np.array([df1.index])\n",
        "time.shape, time[:10]\n",
        "time = np.transpose(time)\n",
        "\n",
        "# shift train predictions for plotting\n",
        "look_back=100\n",
        "trainPredictPlot = np.empty_like(dftsla)\n",
        "trainPredictPlot[:, :] = np.nan\n",
        "trainPredictPlot[look_back:len(train_predict)+look_back, :] = train_predict\n",
        "\n",
        "# shift test predictions for plotting\n",
        "testPredictPlot = np.empty_like(dftsla)\n",
        "testPredictPlot[:, :] = np.nan\n",
        "testPredictPlot[len(train_predict)+(look_back*2)+1:len(df1)-1, :] = test_predict\n",
        "\n",
        "# plot baseline and predictions\n",
        "plt.plot(time, scaler.inverse_transform(dftsla))\n",
        "plt.plot(time, trainPredictPlot)\n",
        "plt.plot(time, testPredictPlot)\n",
        "plt.legend(['Tesla','Train Set','Test Set'])\n",
        "plt.title('Keras Model Output')\n",
        "plt.show()"
      ],
      "metadata": {
        "colab": {
          "base_uri": "https://localhost:8080/",
          "height": 281
        },
        "id": "z6ux-dIdggR0",
        "outputId": "a9dfd94d-bad1-4cf8-a0e7-b238d7d49059"
      },
      "execution_count": 25,
      "outputs": [
        {
          "output_type": "display_data",
          "data": {
            "text/plain": [
              "<Figure size 432x288 with 1 Axes>"
            ],
            "image/png": "[encoded data removed]"
          },
          "metadata": {
            "needs_background": "light"
          }
        }
      ]
    },
    {
      "cell_type": "code",
      "source": [
        "test_predict_length = len(test_predict)\n",
        "tsla_real_plot = scaler.inverse_transform(dftsla)\n",
        "plt.title('Previous ' + str(test_predict_length) + ' Day Predictions')\n",
        "plt.plot(time[-test_predict_length:],tsla_real_plot[-test_predict_length:])\n",
        "plt.plot(time[-test_predict_length:],test_predict)\n",
        "plt.xlabel('Date')\n",
        "plt.ylabel('Close Price')\n",
        "plt.legend(['Tesla','Predicted'])\n",
        "plt.show()"
      ],
      "metadata": {
        "colab": {
          "base_uri": "https://localhost:8080/",
          "height": 295
        },
        "id": "jB6tzxv0E1_R",
        "outputId": "c3f344e0-1db4-4cb3-b93b-0ed4a9d17bf8"
      },
      "execution_count": 26,
      "outputs": [
        {
          "output_type": "display_data",
          "data": {
            "text/plain": [
              "<Figure size 432x288 with 1 Axes>"
            ],
            "image/png": "[encoded data removed]"
          },
          "metadata": {
            "needs_background": "light"
          }
        }
      ]
    },
    {
      "cell_type": "code",
      "source": [
        "# Compare Real Prices of Each Stock\n",
        "plt.plot(time,scaler.inverse_transform(dftsla))\n",
        "plt.plot(time,scaler.inverse_transform(dfaapl))\n",
        "plt.plot(time,scaler.inverse_transform(dfmsft))\n",
        "plt.plot(time,scaler.inverse_transform(dfgoog))\n",
        "plt.plot(time,scaler.inverse_transform(dfamzn))\n",
        "plt.legend(['Tesla','Apple', 'Microsoft', 'Google', 'Amazon'])\n",
        "plt.show()"
      ],
      "metadata": {
        "colab": {
          "base_uri": "https://localhost:8080/",
          "height": 265
        },
        "id": "azmLHjAF9dgY",
        "outputId": "e11b99b4-ae92-48cc-f0af-d046e2177959"
      },
      "execution_count": 27,
      "outputs": [
        {
          "output_type": "display_data",
          "data": {
            "text/plain": [
              "<Figure size 432x288 with 1 Axes>"
            ],
            "image/png": "[encoded data removed]"
          },
          "metadata": {
            "needs_background": "light"
          }
        }
      ]
    },
    {
      "cell_type": "code",
      "execution_count": 28,
      "metadata": {
        "colab": {
          "base_uri": "https://localhost:8080/"
        },
        "id": "yDz5vtazCCQz",
        "outputId": "1f783994-7411-4557-d3cf-bd4861de9d31"
      },
      "outputs": [
        {
          "output_type": "execute_result",
          "data": {
            "text/plain": [
              "242.3644546611397"
            ]
          },
          "metadata": {},
          "execution_count": 28
        }
      ],
      "source": [
        "import math\n",
        "from sklearn.metrics import mean_squared_error\n",
        "math.sqrt(mean_squared_error(y_train,train_predict))"
      ]
    },
    {
      "cell_type": "code",
      "execution_count": 29,
      "metadata": {
        "colab": {
          "base_uri": "https://localhost:8080/"
        },
        "id": "qxHQjOLqCDRN",
        "outputId": "5fd603ed-b2ba-4504-8bd1-b8de04b3f5c3"
      },
      "outputs": [
        {
          "output_type": "execute_result",
          "data": {
            "text/plain": [
              "625.9340697400319"
            ]
          },
          "metadata": {},
          "execution_count": 29
        }
      ],
      "source": [
        "### Test Data RMSE\n",
        "math.sqrt(mean_squared_error(y_test,test_predict))"
      ]
    },
    {
      "cell_type": "markdown",
      "source": [
        "References:\n",
        "- https://towardsdatascience.com/getting-rich-quick-with-machine-learning-and-stock-market-predictions-696802da94fe\n",
        "- https://towardsdatascience.com/getting-rich-quick-with-machine-learning-and-stock-market-predictions-696802da94fe\n",
        "- https://youtu.be/H6du_pfuznE\n"
      ],
      "metadata": {
        "id": "_1kdn9rIB1Ro"
      }
    }
  ],
  "metadata": {
    "colab": {
      "name": "ME391_Final_Project_Hollar.ipynb",
      "provenance": [],
      "collapsed_sections": []
    },
    "kernelspec": {
      "display_name": "Python 3",
      "name": "python3"
    },
    "language_info": {
      "name": "python"
    }
  },
  "nbformat": 4,
  "nbformat_minor": 0
}